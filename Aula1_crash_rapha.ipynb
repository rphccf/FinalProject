{
 "cells": [
  {
   "cell_type": "markdown",
   "metadata": {},
   "source": [
    "<div align='left' style=\"width:400px;height:120px;overflow:hidden;\">\n",
    "<a href='https://eesp.fgv.br/cursos/pos-graduacao-profissional/mestrado-profissional-financas-e-economia--engenharia-financeira'>\n",
    "<img align='left' style='display: block;height: 92%' src='logoFGVEESP.png' alt='FGV logo' title='FGV'/>\n",
    "</a>\n",
    "</div>\n",
    "\n",
    "# Aula 1 - Introdução à linguagem de programação Python 3\n",
    "\n",
    "## Técnicas de Inteligência Computacional ll\n",
    "\n",
    "## Prof. [Gerson de Souza Faria](http://systemssoperfect.com) \n",
    "\n",
    "[gerson.faria@fgv.br](mailto:gerson.faria@fgv.br) \n",
    "\n",
    "> (Baseado em Rick Muller's [A Crash Course in Python for Scientists](http://nbviewer.ipython.org/gist/rpmuller/5920182)\n",
    "\n",
    "versão 0.1 (Julho/2019)"
   ]
  },
  {
   "cell_type": "markdown",
   "metadata": {},
   "source": [
    "# I.  Panorama geral\n",
    "\n",
    "Esta introdução ao Python tem como objetivo apresentar uma pequena coleção de referência ao curso Técnicas de Inteligência Computacional II. Há muitas referências sobre a linguagem para vários públicos, mas uma boa e completa referência à linguagem é o próprio [Tutorial de Python](http://docs.python.org/3/tutorial/).\n",
    "\n",
    "Nossas aulas serão baseadas em notebooks IPython/Jupyter, que permitem a execução interativa de código Python. Há uma introdução no site [IPython notebook documentation](http://ipython.org/notebook.html) e se você quiser aprender a programar mais profundamente nessa linguagem de apresentação, o link do [Tutorial IPython](http://ipython.org/ipython-doc/dev/interactive/tutorial.html) é uma ótima referência.\n",
    "\n",
    "Edição mais avançada de notebooks, como construção de belas expressões matemáticas em LaTex (MathJax) para células tipo *markdown*: <br>\n",
    "\n",
    "$$\n",
    "\\begin{array}{c}\n",
    "1 + 1 = 2\\\\\\\n",
    "e^{i\\pi} + 1 = 0\\\\\\\n",
    "\\sum_{n=1}^{\\infty} 2^{-n} = 1\\\\\\\n",
    "\\frac{\\partial V}{\\partial t}+\\frac{1}{2}\\sigma^2 S^2 \\frac{\\partial^2 V}{\\partial S^2}+rS\\frac{\\partial V}{\\partial S} - rV = 0\\\\\\\n",
    "\\boxed{\\Large{\\frac{\\partial V}{\\partial t}+\\frac{1}{2}\\sigma^2 S^2 \\frac{\\partial^2 V}{\\partial S^2}+rS\\frac{\\partial V}{\\partial S} - rV = 0}}\\\\\\\n",
    "\\end{array}\n",
    "$$\n",
    "\n",
    "...podem ser encontradas no link do projeto Jupyter [Markdown Cells](https://jupyter-notebook.readthedocs.io/en/stable/examples/Notebook/Working%20With%20Markdown%20Cells.html) com alguns belos [Exemplos](https://jupyter-notebook.readthedocs.io/en/stable/examples/Notebook/Typesetting%20Equations.html) que podem ser reaproveitados."
   ]
  },
  {
   "cell_type": "markdown",
   "metadata": {},
   "source": [
    "\n",
    "\n",
    "$$\n",
    "\\begin{array}{c}\n",
    "1 + 1 = 2\n",
    "\\end{array}\n",
    "$$\n",
    "\n"
   ]
  },
  {
   "cell_type": "markdown",
   "metadata": {},
   "source": [
    "## Python como calculadora\n",
    "\n",
    "Obs.: Um atalho rápido para execução de uma célula `In [1]:` é o pressionamento de Shift-Enter. "
   ]
  },
  {
   "cell_type": "code",
   "execution_count": 1,
   "metadata": {},
   "outputs": [
    {
     "data": {
      "text/plain": [
       "4"
      ]
     },
     "execution_count": 1,
     "metadata": {},
     "output_type": "execute_result"
    }
   ],
   "source": [
    "2+2"
   ]
  },
  {
   "cell_type": "code",
   "execution_count": 2,
   "metadata": {},
   "outputs": [
    {
     "data": {
      "text/plain": [
       "5.0"
      ]
     },
     "execution_count": 2,
     "metadata": {},
     "output_type": "execute_result"
    }
   ],
   "source": [
    "(50-5*6)/4"
   ]
  },
  {
   "cell_type": "code",
   "execution_count": 3,
   "metadata": {},
   "outputs": [
    {
     "data": {
      "text/plain": [
       "2.3333333333333335"
      ]
     },
     "execution_count": 3,
     "metadata": {},
     "output_type": "execute_result"
    }
   ],
   "source": [
    "7/3"
   ]
  },
  {
   "cell_type": "markdown",
   "metadata": {},
   "source": [
    "Divisão inteira de inteiros gera inteiro."
   ]
  },
  {
   "cell_type": "code",
   "execution_count": 4,
   "metadata": {},
   "outputs": [
    {
     "data": {
      "text/plain": [
       "2"
      ]
     },
     "execution_count": 4,
     "metadata": {},
     "output_type": "execute_result"
    }
   ],
   "source": [
    "7//3"
   ]
  },
  {
   "cell_type": "markdown",
   "metadata": {},
   "source": [
    "Divisão inteira de números em ponto flutuante gera inteiro em ponto flutuante (a.k.a \"real\")."
   ]
  },
  {
   "cell_type": "code",
   "execution_count": 5,
   "metadata": {},
   "outputs": [
    {
     "data": {
      "text/plain": [
       "2.0"
      ]
     },
     "execution_count": 5,
     "metadata": {},
     "output_type": "execute_result"
    }
   ],
   "source": [
    "7//3."
   ]
  },
  {
   "cell_type": "markdown",
   "metadata": {},
   "source": [
    "Operador `is` diferencia um número em ponto flutuante de um número (de mesmo valor) inteiro."
   ]
  },
  {
   "cell_type": "code",
   "execution_count": 6,
   "metadata": {},
   "outputs": [
    {
     "data": {
      "text/plain": [
       "False"
      ]
     },
     "execution_count": 6,
     "metadata": {},
     "output_type": "execute_result"
    }
   ],
   "source": [
    "7//3 is 7//3."
   ]
  },
  {
   "cell_type": "markdown",
   "metadata": {},
   "source": [
    "Operador == compara seus valores."
   ]
  },
  {
   "cell_type": "code",
   "execution_count": 7,
   "metadata": {},
   "outputs": [
    {
     "data": {
      "text/plain": [
       "True"
      ]
     },
     "execution_count": 7,
     "metadata": {},
     "output_type": "execute_result"
    }
   ],
   "source": [
    "7//3 == 7//3."
   ]
  },
  {
   "cell_type": "markdown",
   "metadata": {},
   "source": [
    "Raiz quadrada."
   ]
  },
  {
   "cell_type": "code",
   "execution_count": 8,
   "metadata": {},
   "outputs": [
    {
     "ename": "NameError",
     "evalue": "name 'sqrt' is not defined",
     "output_type": "error",
     "traceback": [
      "\u001b[1;31m---------------------------------------------------------------------------\u001b[0m",
      "\u001b[1;31mNameError\u001b[0m                                 Traceback (most recent call last)",
      "\u001b[1;32m<ipython-input-8-18128337f01f>\u001b[0m in \u001b[0;36m<module>\u001b[1;34m\u001b[0m\n\u001b[1;32m----> 1\u001b[1;33m \u001b[0msqrt\u001b[0m\u001b[1;33m(\u001b[0m\u001b[1;36m81\u001b[0m\u001b[1;33m)\u001b[0m\u001b[1;33m\u001b[0m\u001b[1;33m\u001b[0m\u001b[0m\n\u001b[0m",
      "\u001b[1;31mNameError\u001b[0m: name 'sqrt' is not defined"
     ]
    }
   ],
   "source": [
    "sqrt(81)"
   ]
  },
  {
   "cell_type": "markdown",
   "metadata": {},
   "source": [
    "Funções especiais pedem o uso de bibiotecas específicas, nesse caso, usamos:\n",
    "\n",
    "    import math\n",
    "    \n",
    "...que deve ser chamada apenas uma vez, normalmente no cabeçalho de seu programa Python. \n",
    "   "
   ]
  },
  {
   "cell_type": "code",
   "execution_count": 9,
   "metadata": {},
   "outputs": [
    {
     "ename": "NameError",
     "evalue": "name 'sqrt' is not defined",
     "output_type": "error",
     "traceback": [
      "\u001b[1;31m---------------------------------------------------------------------------\u001b[0m",
      "\u001b[1;31mNameError\u001b[0m                                 Traceback (most recent call last)",
      "\u001b[1;32m<ipython-input-9-b8441d2acf1f>\u001b[0m in \u001b[0;36m<module>\u001b[1;34m\u001b[0m\n\u001b[0;32m      1\u001b[0m \u001b[1;32mimport\u001b[0m \u001b[0mmath\u001b[0m\u001b[1;33m\u001b[0m\u001b[1;33m\u001b[0m\u001b[0m\n\u001b[1;32m----> 2\u001b[1;33m \u001b[0msqrt\u001b[0m\u001b[1;33m(\u001b[0m\u001b[1;36m81\u001b[0m\u001b[1;33m)\u001b[0m\u001b[1;33m\u001b[0m\u001b[1;33m\u001b[0m\u001b[0m\n\u001b[0m",
      "\u001b[1;31mNameError\u001b[0m: name 'sqrt' is not defined"
     ]
    }
   ],
   "source": [
    "import math\n",
    "sqrt(81)"
   ]
  },
  {
   "cell_type": "markdown",
   "metadata": {},
   "source": [
    "É necessário referenciar a classe original da função."
   ]
  },
  {
   "cell_type": "code",
   "execution_count": 10,
   "metadata": {},
   "outputs": [
    {
     "data": {
      "text/plain": [
       "9.0"
      ]
     },
     "execution_count": 10,
     "metadata": {},
     "output_type": "execute_result"
    }
   ],
   "source": [
    "math.sqrt(81)"
   ]
  },
  {
   "cell_type": "markdown",
   "metadata": {},
   "source": [
    "Atribuição de valores a variáveis é feita com o sinal = e isso já define a variável (diferentemente de linguagens como C, Java etc.) Algumas linguagens utilizam := para atribuição (;-)."
   ]
  },
  {
   "cell_type": "code",
   "execution_count": 11,
   "metadata": {},
   "outputs": [
    {
     "data": {
      "text/plain": [
       "600"
      ]
     },
     "execution_count": 11,
     "metadata": {},
     "output_type": "execute_result"
    }
   ],
   "source": [
    "altura = 20\n",
    "largura = 30\n",
    "area = altura*largura\n",
    "area"
   ]
  },
  {
   "cell_type": "markdown",
   "metadata": {},
   "source": [
    "A simples menção da variável imprime seu conteúdo, sem necessidade do uso de *print*."
   ]
  },
  {
   "cell_type": "markdown",
   "metadata": {},
   "source": [
    "Você pode nomear uma variável *quase* como quiser. O primeiro caractere deve ser alfabético ou \"\\_\", e pode até conter acentos. Não pode começar com números. Algumas palavras são resevadas para a linguagem e não podem ser usadas para nomear variáveis, gerando erro de sintaxe:\n",
    "\n",
    "    and, as, assert, break, class, continue, def, del, elif, else, except, \n",
    "    exec, finally, for, from, global, if, import, in, is, lambda, not, or,\n",
    "    pass, print, raise, return, try, while, with, yield\n"
   ]
  },
  {
   "cell_type": "code",
   "execution_count": 12,
   "metadata": {},
   "outputs": [],
   "source": [
    "número = 3"
   ]
  },
  {
   "cell_type": "markdown",
   "metadata": {},
   "source": [
    "Há distinção entre maíusculas e minúsculas (*case sensitiveness*)."
   ]
  },
  {
   "cell_type": "code",
   "execution_count": 13,
   "metadata": {},
   "outputs": [
    {
     "ename": "NameError",
     "evalue": "name 'Número' is not defined",
     "output_type": "error",
     "traceback": [
      "\u001b[1;31m---------------------------------------------------------------------------\u001b[0m",
      "\u001b[1;31mNameError\u001b[0m                                 Traceback (most recent call last)",
      "\u001b[1;32m<ipython-input-13-2675c8a99f39>\u001b[0m in \u001b[0;36m<module>\u001b[1;34m\u001b[0m\n\u001b[1;32m----> 1\u001b[1;33m \u001b[0mNúmero\u001b[0m\u001b[1;33m\u001b[0m\u001b[1;33m\u001b[0m\u001b[0m\n\u001b[0m",
      "\u001b[1;31mNameError\u001b[0m: name 'Número' is not defined"
     ]
    }
   ],
   "source": [
    "Número"
   ]
  },
  {
   "cell_type": "markdown",
   "metadata": {},
   "source": [
    "## Strings\n",
    "Strings são listas de caracteres imprimíveis e são definidos com aspas simples ou duplas. Caractere de escape '\\\\' permite a inclusão de aspas na string, quando usando o mesmo caractere na definição e no corpo."
   ]
  },
  {
   "cell_type": "code",
   "execution_count": 9,
   "metadata": {},
   "outputs": [
    {
     "data": {
      "text/plain": [
       "\"Perdigão 'perdeu' a pena, não há mal que lhe não venha\""
      ]
     },
     "execution_count": 9,
     "metadata": {},
     "output_type": "execute_result"
    }
   ],
   "source": [
    "'Perdigão \\'perdeu\\' a pena, não há mal que lhe não venha'"
   ]
  },
  {
   "cell_type": "code",
   "execution_count": 10,
   "metadata": {},
   "outputs": [
    {
     "data": {
      "text/plain": [
       "\"Perdigão 'perdeu' a pena, não há mal que lhe não venha\""
      ]
     },
     "execution_count": 10,
     "metadata": {},
     "output_type": "execute_result"
    }
   ],
   "source": [
    "\"Perdigão 'perdeu' a pena, não há mal que lhe não venha\""
   ]
  },
  {
   "cell_type": "markdown",
   "metadata": {},
   "source": [
    "Variáveis podem conter o conteúdo de strings, obviamente."
   ]
  },
  {
   "cell_type": "code",
   "execution_count": 11,
   "metadata": {},
   "outputs": [],
   "source": [
    "trechoVersoCamões = \"Perdigão 'perdeu' a pena, não há mal que lhe não venha\""
   ]
  },
  {
   "cell_type": "markdown",
   "metadata": {},
   "source": [
    "Impressão na tela com **print**:"
   ]
  },
  {
   "cell_type": "code",
   "execution_count": 12,
   "metadata": {},
   "outputs": [
    {
     "name": "stdout",
     "output_type": "stream",
     "text": [
      "Perdigão 'perdeu' a pena, não há mal que lhe não venha\n"
     ]
    }
   ],
   "source": [
    "print(trechoVersoCamões)"
   ]
  },
  {
   "cell_type": "markdown",
   "metadata": {},
   "source": [
    "*Print* permite impressão de tipos distintos na mesma expressão:"
   ]
  },
  {
   "cell_type": "code",
   "execution_count": 18,
   "metadata": {},
   "outputs": [
    {
     "name": "stdout",
     "output_type": "stream",
     "text": [
      "O trecho [ Perdigão 'perdeu' a pena, não há mal que lhe não venha ] possui 54 caracteres.\n"
     ]
    }
   ],
   "source": [
    "print(\"O trecho [\",trechoVersoCamões, \"] possui\", len(trechoVersoCamões),\"caracteres.\")"
   ]
  },
  {
   "cell_type": "code",
   "execution_count": 14,
   "metadata": {},
   "outputs": [
    {
     "name": "stdout",
     "output_type": "stream",
     "text": [
      "O trecho [ Perdigão 'perdeu' a pena, não há mal que lhe não venha ] possui 54 caracteres.\n"
     ]
    }
   ],
   "source": [
    "print(\"O trecho [\",trechoVersoCamões, \"] possui\", len(trechoVersoCamões),\"caracteres.\")"
   ]
  },
  {
   "cell_type": "markdown",
   "metadata": {},
   "source": [
    "Concatenação de strings pode ser feita com o uso do operator +"
   ]
  },
  {
   "cell_type": "code",
   "execution_count": 15,
   "metadata": {},
   "outputs": [
    {
     "name": "stdout",
     "output_type": "stream",
     "text": [
      "Perdigão 'perdeu' a pena, não há mal que lhe não venha. Perdigão que o pensamento Subiu a um alto lugar, Perde a pena do voar, Ganha a pena do tormento.\n"
     ]
    }
   ],
   "source": [
    "trechoVersoCamõesMaior = trechoVersoCamões + \". \" + \"Perdigão que o pensamento Subiu a um alto lugar, Perde a pena do voar, Ganha a pena do tormento.\"\n",
    "print(trechoVersoCamõesMaior)"
   ]
  },
  {
   "cell_type": "markdown",
   "metadata": {},
   "source": [
    "## Listas\n",
    "Lista é um grupo de itens agrupados na ordem de inserção (não precisam ser de mesmo tipo!). "
   ]
  },
  {
   "cell_type": "code",
   "execution_count": 19,
   "metadata": {},
   "outputs": [],
   "source": [
    "lista_bizarra = [2,\"Monday\",3.14159265,math.pi]"
   ]
  },
  {
   "cell_type": "code",
   "execution_count": 21,
   "metadata": {},
   "outputs": [
    {
     "data": {
      "text/plain": [
       "list"
      ]
     },
     "execution_count": 21,
     "metadata": {},
     "output_type": "execute_result"
    }
   ],
   "source": [
    "type(lista_bizarra)"
   ]
  },
  {
   "cell_type": "markdown",
   "metadata": {},
   "source": [
    "Você acessa os mebros de uma lista usando um **índice** numérico, cujo primeiro item possui índice **0**, como na linguagem C."
   ]
  },
  {
   "cell_type": "code",
   "execution_count": 22,
   "metadata": {},
   "outputs": [
    {
     "data": {
      "text/plain": [
       "1.0000000011426666"
      ]
     },
     "execution_count": 22,
     "metadata": {},
     "output_type": "execute_result"
    }
   ],
   "source": [
    "lista_bizarra[3]/lista_bizarra[2]"
   ]
  },
  {
   "cell_type": "markdown",
   "metadata": {},
   "source": [
    "O último item de uma lista é indexado como **-1**:"
   ]
  },
  {
   "cell_type": "code",
   "execution_count": 23,
   "metadata": {},
   "outputs": [
    {
     "data": {
      "text/plain": [
       "3.141592653589793"
      ]
     },
     "execution_count": 23,
     "metadata": {},
     "output_type": "execute_result"
    }
   ],
   "source": [
    "lista_bizarra[-1]"
   ]
  },
  {
   "cell_type": "markdown",
   "metadata": {},
   "source": [
    "O comando `.append()` adiciona um item ao final da lista:"
   ]
  },
  {
   "cell_type": "code",
   "execution_count": 20,
   "metadata": {},
   "outputs": [
    {
     "name": "stdout",
     "output_type": "stream",
     "text": [
      "[2, 'Monday', 3.14159265, 3.141592653589793, []]\n"
     ]
    }
   ],
   "source": [
    "lista_bizarra.append([])\n",
    "print(lista_bizarra)"
   ]
  },
  {
   "cell_type": "code",
   "execution_count": 23,
   "metadata": {},
   "outputs": [
    {
     "name": "stdout",
     "output_type": "stream",
     "text": [
      "[2, 'Monday', 3.14159265, 3.141592653589793, [], [1, 2, 3, 4, 5], [1, 2, 3, 4, 5]]\n"
     ]
    }
   ],
   "source": [
    "l= [1,2,3,4,5]\n",
    "lista_bizarra.append(l)\n",
    "print(lista_bizarra)"
   ]
  },
  {
   "cell_type": "markdown",
   "metadata": {},
   "source": [
    "O tamanho de uma lista é obtido com a função `len()`"
   ]
  },
  {
   "cell_type": "code",
   "execution_count": 25,
   "metadata": {},
   "outputs": [
    {
     "name": "stdout",
     "output_type": "stream",
     "text": [
      "Help on built-in function len in module builtins:\n",
      "\n",
      "len(obj, /)\n",
      "    Return the number of items in a container.\n",
      "\n"
     ]
    }
   ],
   "source": [
    "help(len)"
   ]
  },
  {
   "cell_type": "code",
   "execution_count": 26,
   "metadata": {},
   "outputs": [
    {
     "data": {
      "text/plain": [
       "5"
      ]
     },
     "execution_count": 26,
     "metadata": {},
     "output_type": "execute_result"
    }
   ],
   "source": [
    "len(lista_bizarra)"
   ]
  },
  {
   "cell_type": "markdown",
   "metadata": {},
   "source": [
    "A funçao `range()` é uma forma conveniente de criar uma lista sequencial de números:"
   ]
  },
  {
   "cell_type": "code",
   "execution_count": 27,
   "metadata": {},
   "outputs": [
    {
     "name": "stdout",
     "output_type": "stream",
     "text": [
      "Help on class range in module builtins:\n",
      "\n",
      "class range(object)\n",
      " |  range(stop) -> range object\n",
      " |  range(start, stop[, step]) -> range object\n",
      " |  \n",
      " |  Return an object that produces a sequence of integers from start (inclusive)\n",
      " |  to stop (exclusive) by step.  range(i, j) produces i, i+1, i+2, ..., j-1.\n",
      " |  start defaults to 0, and stop is omitted!  range(4) produces 0, 1, 2, 3.\n",
      " |  These are exactly the valid indices for a list of 4 elements.\n",
      " |  When step is given, it specifies the increment (or decrement).\n",
      " |  \n",
      " |  Methods defined here:\n",
      " |  \n",
      " |  __bool__(self, /)\n",
      " |      self != 0\n",
      " |  \n",
      " |  __contains__(self, key, /)\n",
      " |      Return key in self.\n",
      " |  \n",
      " |  __eq__(self, value, /)\n",
      " |      Return self==value.\n",
      " |  \n",
      " |  __ge__(self, value, /)\n",
      " |      Return self>=value.\n",
      " |  \n",
      " |  __getattribute__(self, name, /)\n",
      " |      Return getattr(self, name).\n",
      " |  \n",
      " |  __getitem__(self, key, /)\n",
      " |      Return self[key].\n",
      " |  \n",
      " |  __gt__(self, value, /)\n",
      " |      Return self>value.\n",
      " |  \n",
      " |  __hash__(self, /)\n",
      " |      Return hash(self).\n",
      " |  \n",
      " |  __iter__(self, /)\n",
      " |      Implement iter(self).\n",
      " |  \n",
      " |  __le__(self, value, /)\n",
      " |      Return self<=value.\n",
      " |  \n",
      " |  __len__(self, /)\n",
      " |      Return len(self).\n",
      " |  \n",
      " |  __lt__(self, value, /)\n",
      " |      Return self<value.\n",
      " |  \n",
      " |  __ne__(self, value, /)\n",
      " |      Return self!=value.\n",
      " |  \n",
      " |  __reduce__(...)\n",
      " |      Helper for pickle.\n",
      " |  \n",
      " |  __repr__(self, /)\n",
      " |      Return repr(self).\n",
      " |  \n",
      " |  __reversed__(...)\n",
      " |      Return a reverse iterator.\n",
      " |  \n",
      " |  count(...)\n",
      " |      rangeobject.count(value) -> integer -- return number of occurrences of value\n",
      " |  \n",
      " |  index(...)\n",
      " |      rangeobject.index(value, [start, [stop]]) -> integer -- return index of value.\n",
      " |      Raise ValueError if the value is not present.\n",
      " |  \n",
      " |  ----------------------------------------------------------------------\n",
      " |  Static methods defined here:\n",
      " |  \n",
      " |  __new__(*args, **kwargs) from builtins.type\n",
      " |      Create and return a new object.  See help(type) for accurate signature.\n",
      " |  \n",
      " |  ----------------------------------------------------------------------\n",
      " |  Data descriptors defined here:\n",
      " |  \n",
      " |  start\n",
      " |  \n",
      " |  step\n",
      " |  \n",
      " |  stop\n",
      "\n"
     ]
    }
   ],
   "source": [
    "help(range)"
   ]
  },
  {
   "cell_type": "code",
   "execution_count": 25,
   "metadata": {},
   "outputs": [
    {
     "name": "stdout",
     "output_type": "stream",
     "text": [
      "[0, 1, 2, 3, 4, 5, 6, 7, 8, 9]\n"
     ]
    }
   ],
   "source": [
    "print(list(r))"
   ]
  },
  {
   "cell_type": "markdown",
   "metadata": {},
   "source": [
    "A sintaxe é `range(stop)` ou `range(start,stop[,step])`"
   ]
  },
  {
   "cell_type": "code",
   "execution_count": 22,
   "metadata": {},
   "outputs": [
    {
     "name": "stdout",
     "output_type": "stream",
     "text": [
      "[0, 1, 2, 3, 4, 5, 6, 7, 8, 9]\n"
     ]
    }
   ],
   "source": [
    "r = list(r)\n",
    "print(r)"
   ]
  },
  {
   "cell_type": "code",
   "execution_count": 15,
   "metadata": {},
   "outputs": [
    {
     "name": "stdout",
     "output_type": "stream",
     "text": [
      "Help on built-in function len in module builtins:\n",
      "\n",
      "len(obj, /)\n",
      "    Return the number of items in a container.\n",
      "\n"
     ]
    }
   ],
   "source": [
    "help(len)"
   ]
  },
  {
   "cell_type": "markdown",
   "metadata": {},
   "source": [
    "## Iterações, identação e blocos\n",
    "É muito comum (e útil) varrer todos os elementos de uma lista em sequência, ou seja, *iterar*. Para isso, use a expressão `for`:"
   ]
  },
  {
   "cell_type": "code",
   "execution_count": 38,
   "metadata": {},
   "outputs": [
    {
     "name": "stdout",
     "output_type": "stream",
     "text": [
      "o quadrado de  0  é  0\n",
      "o quadrado de  1  é  1\n",
      "o quadrado de  2  é  4\n",
      "o quadrado de  3  é  9\n",
      "o quadrado de  4  é  16\n",
      "o quadrado de  5  é  25\n",
      "o quadrado de  6  é  36\n",
      "o quadrado de  7  é  49\n",
      "o quadrado de  8  é  64\n",
      "o quadrado de  9  é  81\n"
     ]
    }
   ],
   "source": [
    "for item in r:\n",
    "    print(\"o quadrado de \", item,\" é \",item*item)"
   ]
  },
  {
   "cell_type": "markdown",
   "metadata": {},
   "source": [
    "## *Slicing*\n",
    "\n",
    "É possível selecionar uma faixa de itens de uma lista. A sintaxe da indexação é `[início:fim-1[:passo]]`."
   ]
  },
  {
   "cell_type": "code",
   "execution_count": 26,
   "metadata": {},
   "outputs": [
    {
     "data": {
      "text/plain": [
       "[1, 3]"
      ]
     },
     "execution_count": 26,
     "metadata": {},
     "output_type": "execute_result"
    }
   ],
   "source": [
    "r[1:4:2]"
   ]
  },
  {
   "cell_type": "markdown",
   "metadata": {},
   "source": [
    "Se a seleção deve iniciar do zero:"
   ]
  },
  {
   "cell_type": "code",
   "execution_count": 34,
   "metadata": {},
   "outputs": [
    {
     "data": {
      "text/plain": [
       "[0, 1, 2, 3]"
      ]
     },
     "execution_count": 34,
     "metadata": {},
     "output_type": "execute_result"
    }
   ],
   "source": [
    "r[:4]"
   ]
  },
  {
   "cell_type": "markdown",
   "metadata": {},
   "source": [
    "Se queremos os últimos 'n' itens da lista, fazemos:"
   ]
  },
  {
   "cell_type": "code",
   "execution_count": 35,
   "metadata": {},
   "outputs": [
    {
     "data": {
      "text/plain": [
       "[7, 8, 9]"
      ]
     },
     "execution_count": 35,
     "metadata": {},
     "output_type": "execute_result"
    }
   ],
   "source": [
    "r[-3:]"
   ]
  },
  {
   "cell_type": "markdown",
   "metadata": {},
   "source": [
    "Se quisermos selecionar uma lista inteira com passo:"
   ]
  },
  {
   "cell_type": "code",
   "execution_count": 36,
   "metadata": {},
   "outputs": [
    {
     "data": {
      "text/plain": [
       "[0, 2, 4, 6, 8]"
      ]
     },
     "execution_count": 36,
     "metadata": {},
     "output_type": "execute_result"
    }
   ],
   "source": [
    "\n",
    "r[::2]\n"
   ]
  },
  {
   "cell_type": "markdown",
   "metadata": {},
   "source": [
    "## Variáveis booleanas e teste lógico\n",
    "\n",
    "Variáveis boolenas podem ser 'True' ou 'False'. Tais variáveis permitem avaliar condições de controle em um programa."
   ]
  },
  {
   "cell_type": "code",
   "execution_count": 39,
   "metadata": {},
   "outputs": [
    {
     "name": "stdout",
     "output_type": "stream",
     "text": [
      "Que dia! Hoje tem lista de Técnicas de Inteligência Computacional 2!\n"
     ]
    }
   ],
   "source": [
    "import datetime;\n",
    "from datetime import date\n",
    "\n",
    "data = date.today()\n",
    "\n",
    "if(data.weekday() == 1): # segunda-feira=0\n",
    "    print(\"Oba! Hoje tem aula de Técnicas de Inteligência Computacional 2!\")\n",
    "else:\n",
    "    print(\"Que dia! Hoje tem lista de Técnicas de Inteligência Computacional 2!\")"
   ]
  },
  {
   "cell_type": "markdown",
   "metadata": {},
   "source": [
    "É possível comparar todos os tipos de dados em Python:"
   ]
  },
  {
   "cell_type": "code",
   "execution_count": 38,
   "metadata": {},
   "outputs": [
    {
     "data": {
      "text/plain": [
       "False"
      ]
     },
     "execution_count": 38,
     "metadata": {},
     "output_type": "execute_result"
    }
   ],
   "source": [
    "1 == 2"
   ]
  },
  {
   "cell_type": "code",
   "execution_count": 39,
   "metadata": {},
   "outputs": [
    {
     "data": {
      "text/plain": [
       "False"
      ]
     },
     "execution_count": 39,
     "metadata": {},
     "output_type": "execute_result"
    }
   ],
   "source": [
    "math.pi == 3.14159265359"
   ]
  },
  {
   "cell_type": "code",
   "execution_count": 40,
   "metadata": {},
   "outputs": [
    {
     "data": {
      "text/plain": [
       "True"
      ]
     },
     "execution_count": 40,
     "metadata": {},
     "output_type": "execute_result"
    }
   ],
   "source": [
    "3 < 3.14159"
   ]
  },
  {
   "cell_type": "code",
   "execution_count": 41,
   "metadata": {},
   "outputs": [
    {
     "data": {
      "text/plain": [
       "True"
      ]
     },
     "execution_count": 41,
     "metadata": {},
     "output_type": "execute_result"
    }
   ],
   "source": [
    "1 == 1.0"
   ]
  },
  {
   "cell_type": "code",
   "execution_count": 42,
   "metadata": {},
   "outputs": [
    {
     "data": {
      "text/plain": [
       "True"
      ]
     },
     "execution_count": 42,
     "metadata": {},
     "output_type": "execute_result"
    }
   ],
   "source": [
    "1 != 0"
   ]
  },
  {
   "cell_type": "code",
   "execution_count": 43,
   "metadata": {},
   "outputs": [
    {
     "data": {
      "text/plain": [
       "True"
      ]
     },
     "execution_count": 43,
     "metadata": {},
     "output_type": "execute_result"
    }
   ],
   "source": [
    "1 <= 2"
   ]
  },
  {
   "cell_type": "code",
   "execution_count": 44,
   "metadata": {},
   "outputs": [
    {
     "data": {
      "text/plain": [
       "True"
      ]
     },
     "execution_count": 44,
     "metadata": {},
     "output_type": "execute_result"
    }
   ],
   "source": [
    "1 >= 1"
   ]
  },
  {
   "cell_type": "markdown",
   "metadata": {},
   "source": [
    "Esses operadores testam o valor de uma variável. Um outro operador, `is` testa se além do valor, os objetos são de mesmo tipo:"
   ]
  },
  {
   "cell_type": "code",
   "execution_count": 45,
   "metadata": {},
   "outputs": [
    {
     "data": {
      "text/plain": [
       "False"
      ]
     },
     "execution_count": 45,
     "metadata": {},
     "output_type": "execute_result"
    }
   ],
   "source": [
    "1 is 1.\n"
   ]
  },
  {
   "cell_type": "markdown",
   "metadata": {},
   "source": [
    "Comparação também serve para listas:"
   ]
  },
  {
   "cell_type": "code",
   "execution_count": 46,
   "metadata": {},
   "outputs": [
    {
     "data": {
      "text/plain": [
       "False"
      ]
     },
     "execution_count": 46,
     "metadata": {},
     "output_type": "execute_result"
    }
   ],
   "source": [
    "[1,2,3] == [1,2,4]"
   ]
  },
  {
   "cell_type": "code",
   "execution_count": 47,
   "metadata": {},
   "outputs": [
    {
     "data": {
      "text/plain": [
       "True"
      ]
     },
     "execution_count": 47,
     "metadata": {},
     "output_type": "execute_result"
    }
   ],
   "source": [
    "[1,2,3] < [1,2,4]"
   ]
  },
  {
   "cell_type": "code",
   "execution_count": 48,
   "metadata": {},
   "outputs": [
    {
     "data": {
      "text/plain": [
       "False"
      ]
     },
     "execution_count": 48,
     "metadata": {},
     "output_type": "execute_result"
    }
   ],
   "source": [
    "[2,2,3] < [1,209990,49990]"
   ]
  },
  {
   "cell_type": "markdown",
   "metadata": {},
   "source": [
    "O que aconteceu aqui?"
   ]
  },
  {
   "cell_type": "markdown",
   "metadata": {},
   "source": [
    "## Outras estruturas de dados: Tuplas e Dicionários\n",
    "\n",
    "Uma **tupla** é uma sequência de objetos parecida a uma lista. É construída ajuntando objetos com vírgulas, delimitando-o ou não com parenteses ou chaves:"
   ]
  },
  {
   "cell_type": "code",
   "execution_count": 49,
   "metadata": {},
   "outputs": [
    {
     "data": {
      "text/plain": [
       "('FGV', 'Rua Itapeva', 474, 'Bela Vista', 'São Paulo', 'SP', '01332-000')"
      ]
     },
     "execution_count": 49,
     "metadata": {},
     "output_type": "execute_result"
    }
   ],
   "source": [
    "fgv = 'FGV','Rua Itapeva',474,'Bela Vista','São Paulo','SP','01332-000'\n",
    "fgv"
   ]
  },
  {
   "cell_type": "code",
   "execution_count": 50,
   "metadata": {},
   "outputs": [
    {
     "data": {
      "text/plain": [
       "tuple"
      ]
     },
     "execution_count": 50,
     "metadata": {},
     "output_type": "execute_result"
    }
   ],
   "source": [
    "type(fgv)"
   ]
  },
  {
   "cell_type": "markdown",
   "metadata": {},
   "source": [
    "Como listas, tuplas tem seus elementos acessíveis por indexação numérica:"
   ]
  },
  {
   "cell_type": "code",
   "execution_count": 51,
   "metadata": {},
   "outputs": [
    {
     "data": {
      "text/plain": [
       "'Rua Itapeva'"
      ]
     },
     "execution_count": 51,
     "metadata": {},
     "output_type": "execute_result"
    }
   ],
   "source": [
    "fgv[1]"
   ]
  },
  {
   "cell_type": "markdown",
   "metadata": {},
   "source": [
    "No entanto, elas **não** permitem edição nem adição de novos elementos. São imutáveis."
   ]
  },
  {
   "cell_type": "code",
   "execution_count": 52,
   "metadata": {},
   "outputs": [
    {
     "ename": "TypeError",
     "evalue": "'tuple' object does not support item assignment",
     "output_type": "error",
     "traceback": [
      "\u001b[1;31m---------------------------------------------------------------------------\u001b[0m",
      "\u001b[1;31mTypeError\u001b[0m                                 Traceback (most recent call last)",
      "\u001b[1;32m<ipython-input-52-f5fab0f7978f>\u001b[0m in \u001b[0;36m<module>\u001b[1;34m\u001b[0m\n\u001b[1;32m----> 1\u001b[1;33m \u001b[0mfgv\u001b[0m\u001b[1;33m[\u001b[0m\u001b[1;36m0\u001b[0m\u001b[1;33m]\u001b[0m \u001b[1;33m=\u001b[0m \u001b[1;34m'Fundação Getúlio Vargas'\u001b[0m\u001b[1;33m\u001b[0m\u001b[1;33m\u001b[0m\u001b[0m\n\u001b[0m",
      "\u001b[1;31mTypeError\u001b[0m: 'tuple' object does not support item assignment"
     ]
    }
   ],
   "source": [
    "fgv[0] = 'Fundação Getúlio Vargas'"
   ]
  },
  {
   "cell_type": "code",
   "execution_count": 53,
   "metadata": {},
   "outputs": [
    {
     "ename": "AttributeError",
     "evalue": "'tuple' object has no attribute 'append'",
     "output_type": "error",
     "traceback": [
      "\u001b[1;31m---------------------------------------------------------------------------\u001b[0m",
      "\u001b[1;31mAttributeError\u001b[0m                            Traceback (most recent call last)",
      "\u001b[1;32m<ipython-input-53-f0c676c57219>\u001b[0m in \u001b[0;36m<module>\u001b[1;34m\u001b[0m\n\u001b[1;32m----> 1\u001b[1;33m \u001b[0mfgv\u001b[0m\u001b[1;33m.\u001b[0m\u001b[0mappend\u001b[0m\u001b[1;33m(\u001b[0m\u001b[1;34m'11 3799-7630'\u001b[0m\u001b[1;33m)\u001b[0m\u001b[1;33m\u001b[0m\u001b[1;33m\u001b[0m\u001b[0m\n\u001b[0m",
      "\u001b[1;31mAttributeError\u001b[0m: 'tuple' object has no attribute 'append'"
     ]
    }
   ],
   "source": [
    "fgv.append('11 3799-7630')"
   ]
  },
  {
   "cell_type": "markdown",
   "metadata": {},
   "source": [
    "Tuplas permitem atribuição múltipla:"
   ]
  },
  {
   "cell_type": "code",
   "execution_count": 54,
   "metadata": {},
   "outputs": [],
   "source": [
    "instituiçao,endereço,número,bairro,cidade,estado,CEP = fgv"
   ]
  },
  {
   "cell_type": "code",
   "execution_count": 55,
   "metadata": {},
   "outputs": [
    {
     "data": {
      "text/plain": [
       "'FGV/São Paulo'"
      ]
     },
     "execution_count": 55,
     "metadata": {},
     "output_type": "execute_result"
    }
   ],
   "source": [
    "instituiçao + '/' + cidade"
   ]
  },
  {
   "cell_type": "markdown",
   "metadata": {},
   "source": [
    "**Dicionários** são objetos onde o índice é uma *chave* de tipo alfanumérica:"
   ]
  },
  {
   "cell_type": "code",
   "execution_count": 56,
   "metadata": {},
   "outputs": [
    {
     "name": "stdout",
     "output_type": "stream",
     "text": [
      "O registro da FGV é ('FGV', 'Rua Itapeva', 474, 'Bela Vista', 'São Paulo', 'SP', '01332-000')\n"
     ]
    }
   ],
   "source": [
    "instituições = {\"FGV\": fgv, \"USP\": (),\"IBMEC\" : ()}\n",
    "print(\"O registro da FGV é\",instituições[\"FGV\"])"
   ]
  },
  {
   "cell_type": "markdown",
   "metadata": {},
   "source": [
    "###### permite usar chave alpha-numérica"
   ]
  },
  {
   "cell_type": "code",
   "execution_count": 57,
   "metadata": {},
   "outputs": [
    {
     "data": {
      "text/plain": [
       "3"
      ]
     },
     "execution_count": 57,
     "metadata": {},
     "output_type": "execute_result"
    }
   ],
   "source": [
    "len(instituições)"
   ]
  },
  {
   "cell_type": "code",
   "execution_count": 58,
   "metadata": {},
   "outputs": [
    {
     "data": {
      "text/plain": [
       "('FGV', 'Rua Itapeva', 474, 'Bela Vista', 'São Paulo', 'SP', '01332-000')"
      ]
     },
     "execution_count": 58,
     "metadata": {},
     "output_type": "execute_result"
    }
   ],
   "source": [
    "instituições[\"FGV\"]"
   ]
  },
  {
   "cell_type": "markdown",
   "metadata": {},
   "source": [
    "## Gráficos usando Matplotlib\n",
    "\n",
    "A biblioteca padrão de gráficos do Python é chamada [Matplotlib](https://matplotlib.org). \n",
    "\n",
    "Como exemplo, utilizamos dados de um arquivo CSV (*Comma Separated Values*) de dados de inflação obtidos no website do [Banco Mundial](https://data.worldbank.org/indicator/FP.CPI.TOTL.ZG). A importação dos dados é feita com uma outra biblioteca, de tratamento de dados, chamada [Pandas](https://pandas.pydata.org). Pandas possui funcionalidades de tratamento de dados como indexação, seleção, estatística, gráficos e muito mais."
   ]
  },
  {
   "cell_type": "code",
   "execution_count": 48,
   "metadata": {},
   "outputs": [
    {
     "data": {
      "text/html": [
       "<div>\n",
       "<style scoped>\n",
       "    .dataframe tbody tr th:only-of-type {\n",
       "        vertical-align: middle;\n",
       "    }\n",
       "\n",
       "    .dataframe tbody tr th {\n",
       "        vertical-align: top;\n",
       "    }\n",
       "\n",
       "    .dataframe thead th {\n",
       "        text-align: right;\n",
       "    }\n",
       "</style>\n",
       "<table border=\"1\" class=\"dataframe\">\n",
       "  <thead>\n",
       "    <tr style=\"text-align: right;\">\n",
       "      <th></th>\n",
       "      <th>Country Name</th>\n",
       "      <th>Indicator Name</th>\n",
       "      <th>Indicator Code</th>\n",
       "      <th>1960</th>\n",
       "      <th>1961</th>\n",
       "      <th>1962</th>\n",
       "      <th>1963</th>\n",
       "      <th>1964</th>\n",
       "      <th>1965</th>\n",
       "      <th>1966</th>\n",
       "      <th>...</th>\n",
       "      <th>2010</th>\n",
       "      <th>2011</th>\n",
       "      <th>2012</th>\n",
       "      <th>2013</th>\n",
       "      <th>2014</th>\n",
       "      <th>2015</th>\n",
       "      <th>2016</th>\n",
       "      <th>2017</th>\n",
       "      <th>2018</th>\n",
       "      <th>Unnamed: 63</th>\n",
       "    </tr>\n",
       "    <tr>\n",
       "      <th>Country Code</th>\n",
       "      <th></th>\n",
       "      <th></th>\n",
       "      <th></th>\n",
       "      <th></th>\n",
       "      <th></th>\n",
       "      <th></th>\n",
       "      <th></th>\n",
       "      <th></th>\n",
       "      <th></th>\n",
       "      <th></th>\n",
       "      <th></th>\n",
       "      <th></th>\n",
       "      <th></th>\n",
       "      <th></th>\n",
       "      <th></th>\n",
       "      <th></th>\n",
       "      <th></th>\n",
       "      <th></th>\n",
       "      <th></th>\n",
       "      <th></th>\n",
       "      <th></th>\n",
       "    </tr>\n",
       "  </thead>\n",
       "  <tbody>\n",
       "    <tr>\n",
       "      <th>ABW</th>\n",
       "      <td>Aruba</td>\n",
       "      <td>Inflation, consumer prices (annual %)</td>\n",
       "      <td>FP.CPI.TOTL.ZG</td>\n",
       "      <td>NaN</td>\n",
       "      <td>NaN</td>\n",
       "      <td>NaN</td>\n",
       "      <td>NaN</td>\n",
       "      <td>NaN</td>\n",
       "      <td>NaN</td>\n",
       "      <td>NaN</td>\n",
       "      <td>...</td>\n",
       "      <td>2.077739</td>\n",
       "      <td>4.316332</td>\n",
       "      <td>0.627928</td>\n",
       "      <td>-2.372263</td>\n",
       "      <td>0.421638</td>\n",
       "      <td>0.475067</td>\n",
       "      <td>-0.886758</td>\n",
       "      <td>-0.481315</td>\n",
       "      <td>3.580394</td>\n",
       "      <td>NaN</td>\n",
       "    </tr>\n",
       "    <tr>\n",
       "      <th>AFG</th>\n",
       "      <td>Afghanistan</td>\n",
       "      <td>Inflation, consumer prices (annual %)</td>\n",
       "      <td>FP.CPI.TOTL.ZG</td>\n",
       "      <td>NaN</td>\n",
       "      <td>NaN</td>\n",
       "      <td>NaN</td>\n",
       "      <td>NaN</td>\n",
       "      <td>NaN</td>\n",
       "      <td>NaN</td>\n",
       "      <td>NaN</td>\n",
       "      <td>...</td>\n",
       "      <td>2.178538</td>\n",
       "      <td>11.804186</td>\n",
       "      <td>6.441213</td>\n",
       "      <td>7.385772</td>\n",
       "      <td>4.673996</td>\n",
       "      <td>-0.661709</td>\n",
       "      <td>4.383892</td>\n",
       "      <td>4.975952</td>\n",
       "      <td>NaN</td>\n",
       "      <td>NaN</td>\n",
       "    </tr>\n",
       "    <tr>\n",
       "      <th>AGO</th>\n",
       "      <td>Angola</td>\n",
       "      <td>Inflation, consumer prices (annual %)</td>\n",
       "      <td>FP.CPI.TOTL.ZG</td>\n",
       "      <td>NaN</td>\n",
       "      <td>NaN</td>\n",
       "      <td>NaN</td>\n",
       "      <td>NaN</td>\n",
       "      <td>NaN</td>\n",
       "      <td>NaN</td>\n",
       "      <td>NaN</td>\n",
       "      <td>...</td>\n",
       "      <td>14.469656</td>\n",
       "      <td>13.482468</td>\n",
       "      <td>10.277905</td>\n",
       "      <td>8.777814</td>\n",
       "      <td>7.280387</td>\n",
       "      <td>10.278046</td>\n",
       "      <td>32.377734</td>\n",
       "      <td>31.691686</td>\n",
       "      <td>20.190374</td>\n",
       "      <td>NaN</td>\n",
       "    </tr>\n",
       "    <tr>\n",
       "      <th>ALB</th>\n",
       "      <td>Albania</td>\n",
       "      <td>Inflation, consumer prices (annual %)</td>\n",
       "      <td>FP.CPI.TOTL.ZG</td>\n",
       "      <td>NaN</td>\n",
       "      <td>NaN</td>\n",
       "      <td>NaN</td>\n",
       "      <td>NaN</td>\n",
       "      <td>NaN</td>\n",
       "      <td>NaN</td>\n",
       "      <td>NaN</td>\n",
       "      <td>...</td>\n",
       "      <td>3.615385</td>\n",
       "      <td>3.442836</td>\n",
       "      <td>2.036422</td>\n",
       "      <td>1.925444</td>\n",
       "      <td>1.613042</td>\n",
       "      <td>1.910017</td>\n",
       "      <td>1.275125</td>\n",
       "      <td>1.993928</td>\n",
       "      <td>2.020790</td>\n",
       "      <td>NaN</td>\n",
       "    </tr>\n",
       "    <tr>\n",
       "      <th>AND</th>\n",
       "      <td>Andorra</td>\n",
       "      <td>Inflation, consumer prices (annual %)</td>\n",
       "      <td>FP.CPI.TOTL.ZG</td>\n",
       "      <td>NaN</td>\n",
       "      <td>NaN</td>\n",
       "      <td>NaN</td>\n",
       "      <td>NaN</td>\n",
       "      <td>NaN</td>\n",
       "      <td>NaN</td>\n",
       "      <td>NaN</td>\n",
       "      <td>...</td>\n",
       "      <td>NaN</td>\n",
       "      <td>NaN</td>\n",
       "      <td>NaN</td>\n",
       "      <td>NaN</td>\n",
       "      <td>NaN</td>\n",
       "      <td>NaN</td>\n",
       "      <td>NaN</td>\n",
       "      <td>NaN</td>\n",
       "      <td>NaN</td>\n",
       "      <td>NaN</td>\n",
       "    </tr>\n",
       "  </tbody>\n",
       "</table>\n",
       "<p>5 rows × 63 columns</p>\n",
       "</div>"
      ],
      "text/plain": [
       "             Country Name                         Indicator Name  \\\n",
       "Country Code                                                       \n",
       "ABW                 Aruba  Inflation, consumer prices (annual %)   \n",
       "AFG           Afghanistan  Inflation, consumer prices (annual %)   \n",
       "AGO                Angola  Inflation, consumer prices (annual %)   \n",
       "ALB               Albania  Inflation, consumer prices (annual %)   \n",
       "AND               Andorra  Inflation, consumer prices (annual %)   \n",
       "\n",
       "              Indicator Code  1960  1961  1962  1963  1964  1965  1966  ...  \\\n",
       "Country Code                                                            ...   \n",
       "ABW           FP.CPI.TOTL.ZG   NaN   NaN   NaN   NaN   NaN   NaN   NaN  ...   \n",
       "AFG           FP.CPI.TOTL.ZG   NaN   NaN   NaN   NaN   NaN   NaN   NaN  ...   \n",
       "AGO           FP.CPI.TOTL.ZG   NaN   NaN   NaN   NaN   NaN   NaN   NaN  ...   \n",
       "ALB           FP.CPI.TOTL.ZG   NaN   NaN   NaN   NaN   NaN   NaN   NaN  ...   \n",
       "AND           FP.CPI.TOTL.ZG   NaN   NaN   NaN   NaN   NaN   NaN   NaN  ...   \n",
       "\n",
       "                   2010       2011       2012      2013      2014       2015  \\\n",
       "Country Code                                                                   \n",
       "ABW            2.077739   4.316332   0.627928 -2.372263  0.421638   0.475067   \n",
       "AFG            2.178538  11.804186   6.441213  7.385772  4.673996  -0.661709   \n",
       "AGO           14.469656  13.482468  10.277905  8.777814  7.280387  10.278046   \n",
       "ALB            3.615385   3.442836   2.036422  1.925444  1.613042   1.910017   \n",
       "AND                 NaN        NaN        NaN       NaN       NaN        NaN   \n",
       "\n",
       "                   2016       2017       2018  Unnamed: 63  \n",
       "Country Code                                                \n",
       "ABW           -0.886758  -0.481315   3.580394          NaN  \n",
       "AFG            4.383892   4.975952        NaN          NaN  \n",
       "AGO           32.377734  31.691686  20.190374          NaN  \n",
       "ALB            1.275125   1.993928   2.020790          NaN  \n",
       "AND                 NaN        NaN        NaN          NaN  \n",
       "\n",
       "[5 rows x 63 columns]"
      ]
     },
     "execution_count": 48,
     "metadata": {},
     "output_type": "execute_result"
    }
   ],
   "source": [
    "# carregamos a biblioteca pandas utilizando o apelido (alias) 'pd' \n",
    "import pandas as pd \n",
    "\n",
    "# Le dados do arquivo 'API_FP.CPI.TOTL.ZG_DS2_en_csv_v2_40961.csv' e considera como índice a coluna 'Country Code'\n",
    "dados = pd.read_csv(\"API_FP.CPI.TOTL.ZG_DS2_en_csv_v2_40961.csv\",skiprows = [0,2],index_col =\"Country Code\") \n",
    "\n",
    "# Mostra os dados das primeiras 5 linhas \n",
    "dados.head()"
   ]
  },
  {
   "cell_type": "markdown",
   "metadata": {},
   "source": [
    "Em seguida, filtramos dados do Brasil pela chave do dicionário, 'BRA', para os anos de 1960 a 2018:"
   ]
  },
  {
   "cell_type": "code",
   "execution_count": 49,
   "metadata": {},
   "outputs": [
    {
     "data": {
      "text/plain": [
       "1960        NaN\n",
       "1961        NaN\n",
       "1962        NaN\n",
       "1963        NaN\n",
       "1964        NaN\n",
       "1965        NaN\n",
       "1966        NaN\n",
       "1967        NaN\n",
       "1968        NaN\n",
       "1969        NaN\n",
       "1970        NaN\n",
       "1971        NaN\n",
       "1972        NaN\n",
       "1973        NaN\n",
       "1974        NaN\n",
       "1975        NaN\n",
       "1976        NaN\n",
       "1977        NaN\n",
       "1978        NaN\n",
       "1979        NaN\n",
       "1980        NaN\n",
       "1981    101.725\n",
       "1982    100.543\n",
       "1983    135.028\n",
       "1984    192.122\n",
       "1985     225.99\n",
       "1986    147.143\n",
       "1987    228.336\n",
       "1988    629.113\n",
       "1989    1430.73\n",
       "1990    2947.73\n",
       "1991    432.787\n",
       "1992    951.962\n",
       "1993    1927.38\n",
       "1994    2075.89\n",
       "1995     66.007\n",
       "1996    15.7577\n",
       "1997    6.92671\n",
       "1998    3.19508\n",
       "1999    4.85845\n",
       "2000    7.04414\n",
       "2001    6.84036\n",
       "2002    8.45016\n",
       "2003    14.7149\n",
       "2004    6.59719\n",
       "2005    6.86954\n",
       "2006    4.18357\n",
       "2007    3.64127\n",
       "2008    5.67859\n",
       "2009    4.88803\n",
       "2010    5.03873\n",
       "2011    6.63637\n",
       "2012    5.40355\n",
       "2013    6.20434\n",
       "2014    6.32915\n",
       "2015    9.02981\n",
       "2016    8.73913\n",
       "2017    3.44637\n",
       "2018    3.66485\n",
       "Name: BRA, dtype: object"
      ]
     },
     "execution_count": 49,
     "metadata": {},
     "output_type": "execute_result"
    }
   ],
   "source": [
    "dados_br = dados.loc['BRA','1960':'2018']\n",
    "dados_br"
   ]
  },
  {
   "cell_type": "markdown",
   "metadata": {},
   "source": [
    "Há vários anos que não possuem dados de inflação, que são tratados como NaN (*not a number*) pelo pandas. É preciso estar atento pois em alguns casos isso é ignorado por default.\n",
    "\n",
    "Vamos plotar esses dados utilizando o pyplot. Nesse caso, os NaN são automaticamente (e convenientemente) ignorados."
   ]
  },
  {
   "cell_type": "code",
   "execution_count": 50,
   "metadata": {},
   "outputs": [
    {
     "data": {
      "image/png": "[encoded data removed]",
      "text/plain": [
       "<Figure size 1440x720 with 1 Axes>"
      ]
     },
     "metadata": {
      "needs_background": "light"
     },
     "output_type": "display_data"
    }
   ],
   "source": [
    "import matplotlib.pyplot as plt\n",
    "from pylab import rcParams\n",
    "\n",
    "#dimensiona o tamanho da figura\n",
    "rcParams['figure.figsize'] = 20, 10\n",
    "\n",
    "plt.plot(dados_br,label=\"factorial\")\n",
    "\n",
    "plt.xlabel(\"Ano\")\n",
    "plt.ylabel(\"Inflação (%)\")\n",
    "plt.title(\"Inflação brasileira 1981-2018 - Fonte: Banco Mundial\");\n",
    "\n",
    "plt.grid()\n",
    "\n",
    "plt.show()"
   ]
  },
  {
   "cell_type": "markdown",
   "metadata": {},
   "source": [
    "Como a amplitude dos dados de inflação no período é grande, uma alternativa é utilizar escala logarítmica no eixo y. Para isso, utilizamos a função `semilogy`. Vamos colocar dados de mais países no mesmo gráfico. "
   ]
  },
  {
   "cell_type": "code",
   "execution_count": 62,
   "metadata": {},
   "outputs": [
    {
     "data": {
      "image/png": "[encoded data removed]",
      "text/plain": [
       "<Figure size 432x288 with 1 Axes>"
      ]
     },
     "metadata": {
      "needs_background": "light"
     },
     "output_type": "display_data"
    }
   ],
   "source": [
    "from matplotlib.pyplot import semilogy\n",
    "\n",
    "#incluindo dados de outros países\n",
    "\n",
    "dados_usa = dados.loc['USA','1960':'2018']\n",
    "dados_ven = dados.loc['VEN','1960':'2018']\n",
    "dados_emu = dados.loc['EMU','1960':'2018'] # zona do euro\n",
    "dados_wld = dados.loc['WLD','1960':'2018'] # mundo\n",
    "\n",
    "plt.semilogy(dados_br)\n",
    "plt.semilogy(dados_ven)\n",
    "plt.semilogy(dados_emu)\n",
    "plt.semilogy(dados_usa)\n",
    "plt.semilogy(dados_wld)\n",
    "\n",
    "plt.legend(['Brasil','Venezuela','Zona do Euro','USA','Mundial'],fontsize='x-large')\n",
    "\n",
    "plt.xlabel(\"Ano\")\n",
    "\n",
    "# rotaciona os rótulos do eixo x (ajusta o gráfico para não sobrepor)\n",
    "plt.xticks(rotation=60)\n",
    "\n",
    "plt.ylabel(\"Inflação (%)\")\n",
    "\n",
    "plt.title(\"Inflação 1960-2018 - Fonte: Banco Mundial\");\n",
    "\n",
    "#configuração de grades\n",
    "plt.grid(b=True, which='major', color='gray', linestyle='-')\n",
    "plt.grid(b=True, which='minor', color='lightgray', linestyle='--')\n",
    "\n",
    "plt.show()"
   ]
  },
  {
   "cell_type": "markdown",
   "metadata": {},
   "source": [
    "Matplotlib é uma biblioteca bastante rica e também é base para várias outras bibliotecas gráficas, como a [Seaborn](https://github.com/mwaskom/seaborn) que auxilia na visualização de gráficos estatísticos. Recomendo a visita à galeria do Matplotlib [Gallery](http://matplotlib.org/gallery.html) e experimentar o Seaborn.\n",
    "\n"
   ]
  },
  {
   "cell_type": "markdown",
   "metadata": {},
   "source": [
    "## Conclusão deste \"panorama geral\"\n",
    "\n",
    "Obviamente, há muito mais a ser coberto na linguagem Python. As necessidades da vida real do usuário na solução de problemas irá guiar a busca. Há muitos problemas e soluções *online* também, como no [Stack Overflow](https://stackoverflow.com) e uma infinidade de cursos com bons exemplos. Mas, para todas as dúvidas, consulte sempre o [Python Language Reference](https://docs.python.org/3/reference/)."
   ]
  },
  {
   "cell_type": "markdown",
   "metadata": {},
   "source": [
    "# II. Scipy\n",
    "\n",
    "[SciPy](https://www.scipy.org) (pronúnica “sai pai”) é um ecossistema baseado em Python de software open-source para matemática, ciência e engenharia. Em particular, esses são algus dos pacotes principais: \n",
    "\n",
    ">[NumPy](https://numpy.org): *\"Base N-dimensional array package\"*\n",
    "\n",
    ">[Scipy Library](https://www.scipy.org/scipylib/index.html): *\"Fundamental library for scientific computing\"*\n",
    "\n",
    ">[Matplotlib](https://matplotlib.org): *\"Comprehensive 2D Plotting\"* (mas tem toolkits 3D também)\n",
    "\n",
    ">[IPython](https://ipython.org) *\"Enhanced Interactive Console\"* (o *kernel* do Jupyter)\n",
    "\n",
    ">[Sympy](https://www.sympy.org/en/index.html) \"Symbolic mathematics\"\n",
    "\n",
    ">[Pandas](https://pandas.pydata.org) \"Data structures & analysis\". Que já vimos um pouco acima.\n",
    "\n",
    "Ou seja, muito do software utilizado em \"ciência de dados\" é aberto e está nessa lista. São rotinas eficientes escritas em C e Fortran que possuem muito da capacidade de pacotes como [Matlab](http://www.mathworks.com/products/matlab/) ou sua versão *open-source* [Octave](https://www.gnu.org/software/octave/). Se você é um usuário de Matlab há um guia de Numpy especialmente para você [NumPy for Matlab users](https://docs.scipy.org/doc/numpy-1.15.0/user/numpy-for-matlab-users.html).\n",
    "\n",
    "\n",
    "## Vetores e matrizes\n",
    "\n",
    "Você cria vetores e matrizes com o uso do mesmo comando `array`:"
   ]
  },
  {
   "cell_type": "code",
   "execution_count": 51,
   "metadata": {},
   "outputs": [
    {
     "ename": "NameError",
     "evalue": "name 'array' is not defined",
     "output_type": "error",
     "traceback": [
      "\u001b[1;31m---------------------------------------------------------------------------\u001b[0m",
      "\u001b[1;31mNameError\u001b[0m                                 Traceback (most recent call last)",
      "\u001b[1;32m<ipython-input-51-84c19bf75439>\u001b[0m in \u001b[0;36m<module>\u001b[1;34m\u001b[0m\n\u001b[1;32m----> 1\u001b[1;33m \u001b[0marray\u001b[0m\u001b[1;33m(\u001b[0m\u001b[1;33m[\u001b[0m\u001b[1;36m1\u001b[0m\u001b[1;33m,\u001b[0m\u001b[1;36m2\u001b[0m\u001b[1;33m,\u001b[0m\u001b[1;36m3\u001b[0m\u001b[1;33m]\u001b[0m\u001b[1;33m)\u001b[0m\u001b[1;33m\u001b[0m\u001b[1;33m\u001b[0m\u001b[0m\n\u001b[0m",
      "\u001b[1;31mNameError\u001b[0m: name 'array' is not defined"
     ]
    }
   ],
   "source": [
    "array([1,2,3])"
   ]
  },
  {
   "cell_type": "markdown",
   "metadata": {},
   "source": [
    "Não se esqueça de carregar a bilioteca Numpy. Você pode definir o [tipo numérico desejado](https://docs.scipy.org/doc/numpy/user/basics.types.html) por seus apelidos. Os mais comuns são 'd' (ponto flutuante de precisão dupla), 'D' (ponto flutuante de precisão dupla complexo), e 'i' inteiro de 32 bits (int32)."
   ]
  },
  {
   "cell_type": "code",
   "execution_count": 59,
   "metadata": {},
   "outputs": [
    {
     "data": {
      "text/plain": [
       "array([1, 2, 3])"
      ]
     },
     "execution_count": 59,
     "metadata": {},
     "output_type": "execute_result"
    }
   ],
   "source": [
    "import numpy as np\n",
    "np.array([1,2,3])"
   ]
  },
  {
   "cell_type": "markdown",
   "metadata": {},
   "source": [
    "O formato do vetor ou matriz (genericamente chamados 'tensores') é obtido com o comando do numpy `shape`."
   ]
  },
  {
   "cell_type": "code",
   "execution_count": 69,
   "metadata": {},
   "outputs": [
    {
     "data": {
      "text/plain": [
       "(3,)"
      ]
     },
     "execution_count": 69,
     "metadata": {},
     "output_type": "execute_result"
    }
   ],
   "source": [
    "a = np.array([1,2,3])\n",
    "np.shape(a)"
   ]
  },
  {
   "cell_type": "code",
   "execution_count": 66,
   "metadata": {},
   "outputs": [
    {
     "data": {
      "text/plain": [
       "numpy.ndarray"
      ]
     },
     "execution_count": 66,
     "metadata": {},
     "output_type": "execute_result"
    }
   ],
   "source": [
    "type(a)"
   ]
  },
  {
   "cell_type": "markdown",
   "metadata": {},
   "source": [
    "Um array é um array com \"uma dimensão\", nem linha nem coluna..."
   ]
  },
  {
   "cell_type": "code",
   "execution_count": 67,
   "metadata": {},
   "outputs": [
    {
     "data": {
      "text/plain": [
       "True"
      ]
     },
     "execution_count": 67,
     "metadata": {},
     "output_type": "execute_result"
    }
   ],
   "source": [
    "a.T.dot(a) == a.dot(a.T) #.T = transposição"
   ]
  },
  {
   "cell_type": "markdown",
   "metadata": {},
   "source": [
    "Uma matriz é definida como listas. "
   ]
  },
  {
   "cell_type": "code",
   "execution_count": 68,
   "metadata": {},
   "outputs": [
    {
     "data": {
      "text/plain": [
       "(2, 2)"
      ]
     },
     "execution_count": 68,
     "metadata": {},
     "output_type": "execute_result"
    }
   ],
   "source": [
    "\n",
    "a = np.array([[0,1],[1,0]],'d') ### o 'd' é formato do conteúdo \n",
    "\n",
    "np.shape(a)\n",
    "\n"
   ]
  },
  {
   "cell_type": "markdown",
   "metadata": {},
   "source": [
    "É possível criar matrizes de zeros  de formato arbitrário."
   ]
  },
  {
   "cell_type": "code",
   "execution_count": 69,
   "metadata": {},
   "outputs": [
    {
     "data": {
      "text/plain": [
       "array([[0.],\n",
       "       [0.],\n",
       "       [0.]])"
      ]
     },
     "execution_count": 69,
     "metadata": {},
     "output_type": "execute_result"
    }
   ],
   "source": [
    "np.zeros((3,1),'d') # vetor coluna"
   ]
  },
  {
   "cell_type": "code",
   "execution_count": 70,
   "metadata": {},
   "outputs": [
    {
     "data": {
      "text/plain": [
       "array([[0., 0., 0.]])"
      ]
     },
     "execution_count": 70,
     "metadata": {},
     "output_type": "execute_result"
    }
   ],
   "source": [
    "np.zeros((1,3),'d') # vetor linha"
   ]
  },
  {
   "cell_type": "markdown",
   "metadata": {},
   "source": [
    "Há também um comando `identity`:"
   ]
  },
  {
   "cell_type": "code",
   "execution_count": 71,
   "metadata": {},
   "outputs": [
    {
     "data": {
      "text/plain": [
       "array([[1., 0., 0., 0.],\n",
       "       [0., 1., 0., 0.],\n",
       "       [0., 0., 1., 0.],\n",
       "       [0., 0., 0., 1.]])"
      ]
     },
     "execution_count": 71,
     "metadata": {},
     "output_type": "execute_result"
    }
   ],
   "source": [
    "np.identity(4,'d')"
   ]
  },
  {
   "cell_type": "markdown",
   "metadata": {},
   "source": [
    "bem como o comando `ones`:"
   ]
  },
  {
   "cell_type": "code",
   "execution_count": 72,
   "metadata": {},
   "outputs": [
    {
     "data": {
      "text/plain": [
       "array([[1., 1., 1., 1.],\n",
       "       [1., 1., 1., 1.],\n",
       "       [1., 1., 1., 1.],\n",
       "       [1., 1., 1., 1.]])"
      ]
     },
     "execution_count": 72,
     "metadata": {},
     "output_type": "execute_result"
    }
   ],
   "source": [
    "np.ones((4,4),'d')"
   ]
  },
  {
   "cell_type": "markdown",
   "metadata": {},
   "source": [
    "## Linspace\n",
    "\n",
    "``linspace`` é um comando que cria um array linear de um valor inicial a um valor final."
   ]
  },
  {
   "cell_type": "code",
   "execution_count": 73,
   "metadata": {},
   "outputs": [
    {
     "data": {
      "text/plain": [
       "array([0.        , 0.02040816, 0.04081633, 0.06122449, 0.08163265,\n",
       "       0.10204082, 0.12244898, 0.14285714, 0.16326531, 0.18367347,\n",
       "       0.20408163, 0.2244898 , 0.24489796, 0.26530612, 0.28571429,\n",
       "       0.30612245, 0.32653061, 0.34693878, 0.36734694, 0.3877551 ,\n",
       "       0.40816327, 0.42857143, 0.44897959, 0.46938776, 0.48979592,\n",
       "       0.51020408, 0.53061224, 0.55102041, 0.57142857, 0.59183673,\n",
       "       0.6122449 , 0.63265306, 0.65306122, 0.67346939, 0.69387755,\n",
       "       0.71428571, 0.73469388, 0.75510204, 0.7755102 , 0.79591837,\n",
       "       0.81632653, 0.83673469, 0.85714286, 0.87755102, 0.89795918,\n",
       "       0.91836735, 0.93877551, 0.95918367, 0.97959184, 1.        ])"
      ]
     },
     "execution_count": 73,
     "metadata": {},
     "output_type": "execute_result"
    }
   ],
   "source": [
    "np.linspace(0,1) ### senão especificar os números, o py te dá 50 valores como default entre o número inicial e final"
   ]
  },
  {
   "cell_type": "markdown",
   "metadata": {},
   "source": [
    "Se você fornecer um terceiro argumento para o comnando, esse será o número de pontos. Caso contrário, o valor default é 50."
   ]
  },
  {
   "cell_type": "code",
   "execution_count": 74,
   "metadata": {},
   "outputs": [
    {
     "data": {
      "text/plain": [
       "array([0.        , 0.04166667, 0.08333333, 0.125     , 0.16666667,\n",
       "       0.20833333, 0.25      , 0.29166667, 0.33333333, 0.375     ,\n",
       "       0.41666667, 0.45833333, 0.5       , 0.54166667, 0.58333333,\n",
       "       0.625     , 0.66666667, 0.70833333, 0.75      , 0.79166667,\n",
       "       0.83333333, 0.875     , 0.91666667, 0.95833333, 1.        ])"
      ]
     },
     "execution_count": 74,
     "metadata": {},
     "output_type": "execute_result"
    }
   ],
   "source": [
    "np.linspace(0,1,25)"
   ]
  },
  {
   "cell_type": "markdown",
   "metadata": {},
   "source": [
    "``linspace`` é uma forma conveniente de criar coordenadas para gráficos."
   ]
  },
  {
   "cell_type": "code",
   "execution_count": 75,
   "metadata": {},
   "outputs": [
    {
     "data": {
      "text/plain": [
       "array([ 0.00000000e+00,  6.34239197e-02,  1.26592454e-01,  1.89251244e-01,\n",
       "        2.51147987e-01,  3.12033446e-01,  3.71662456e-01,  4.29794912e-01,\n",
       "        4.86196736e-01,  5.40640817e-01,  5.92907929e-01,  6.42787610e-01,\n",
       "        6.90079011e-01,  7.34591709e-01,  7.76146464e-01,  8.14575952e-01,\n",
       "        8.49725430e-01,  8.81453363e-01,  9.09631995e-01,  9.34147860e-01,\n",
       "        9.54902241e-01,  9.71811568e-01,  9.84807753e-01,  9.93838464e-01,\n",
       "        9.98867339e-01,  9.99874128e-01,  9.96854776e-01,  9.89821442e-01,\n",
       "        9.78802446e-01,  9.63842159e-01,  9.45000819e-01,  9.22354294e-01,\n",
       "        8.95993774e-01,  8.66025404e-01,  8.32569855e-01,  7.95761841e-01,\n",
       "        7.55749574e-01,  7.12694171e-01,  6.66769001e-01,  6.18158986e-01,\n",
       "        5.67059864e-01,  5.13677392e-01,  4.58226522e-01,  4.00930535e-01,\n",
       "        3.42020143e-01,  2.81732557e-01,  2.20310533e-01,  1.58001396e-01,\n",
       "        9.50560433e-02,  3.17279335e-02, -3.17279335e-02, -9.50560433e-02,\n",
       "       -1.58001396e-01, -2.20310533e-01, -2.81732557e-01, -3.42020143e-01,\n",
       "       -4.00930535e-01, -4.58226522e-01, -5.13677392e-01, -5.67059864e-01,\n",
       "       -6.18158986e-01, -6.66769001e-01, -7.12694171e-01, -7.55749574e-01,\n",
       "       -7.95761841e-01, -8.32569855e-01, -8.66025404e-01, -8.95993774e-01,\n",
       "       -9.22354294e-01, -9.45000819e-01, -9.63842159e-01, -9.78802446e-01,\n",
       "       -9.89821442e-01, -9.96854776e-01, -9.99874128e-01, -9.98867339e-01,\n",
       "       -9.93838464e-01, -9.84807753e-01, -9.71811568e-01, -9.54902241e-01,\n",
       "       -9.34147860e-01, -9.09631995e-01, -8.81453363e-01, -8.49725430e-01,\n",
       "       -8.14575952e-01, -7.76146464e-01, -7.34591709e-01, -6.90079011e-01,\n",
       "       -6.42787610e-01, -5.92907929e-01, -5.40640817e-01, -4.86196736e-01,\n",
       "       -4.29794912e-01, -3.71662456e-01, -3.12033446e-01, -2.51147987e-01,\n",
       "       -1.89251244e-01, -1.26592454e-01, -6.34239197e-02, -2.44929360e-16])"
      ]
     },
     "execution_count": 75,
     "metadata": {},
     "output_type": "execute_result"
    }
   ],
   "source": [
    "x = np.linspace(0,2*np.pi,100);\n",
    "np.sin(x)"
   ]
  },
  {
   "cell_type": "code",
   "execution_count": 76,
   "metadata": {},
   "outputs": [
    {
     "data": {
      "image/png": "[encoded data removed]",
      "text/plain": [
       "<Figure size 720x720 with 1 Axes>"
      ]
     },
     "metadata": {
      "needs_background": "light"
     },
     "output_type": "display_data"
    }
   ],
   "source": [
    "rcParams['figure.figsize'] = 10, 10\n",
    "plt.plot(x,np.sin(x)**5)\n",
    "plt.grid()"
   ]
  },
  {
   "cell_type": "markdown",
   "metadata": {},
   "source": [
    "## Resolução de sistemas de equações lineares\n",
    "\n",
    "Uma das opções é utilizar o comando ``solve``:"
   ]
  },
  {
   "cell_type": "code",
   "execution_count": 77,
   "metadata": {},
   "outputs": [
    {
     "name": "stdout",
     "output_type": "stream",
     "text": [
      "[ 1. -2. -2.]\n"
     ]
    }
   ],
   "source": [
    "A = np.array([[3.,2.,-1.],[2.,-2.,4.],[-1.,1./2,-1.]])\n",
    "b = np.array([1.,-2.,0.])\n",
    "x = np.linalg.solve(A,b) ### biblioteca de alge linear que resolve o problema Ax=b\n",
    "print(x)"
   ]
  },
  {
   "cell_type": "code",
   "execution_count": 78,
   "metadata": {},
   "outputs": [
    {
     "name": "stdout",
     "output_type": "stream",
     "text": [
      "[ 1.00000000e+00 -2.00000000e+00 -2.22044605e-16]\n"
     ]
    },
    {
     "data": {
      "text/plain": [
       "array([False, False, False])"
      ]
     },
     "execution_count": 78,
     "metadata": {},
     "output_type": "execute_result"
    }
   ],
   "source": [
    "print(A.dot(x))\n",
    "A.dot(x) == b"
   ]
  },
  {
   "cell_type": "markdown",
   "metadata": {},
   "source": [
    "###### não é igual porque tem questão de arrendodamento"
   ]
  },
  {
   "cell_type": "markdown",
   "metadata": {},
   "source": [
    "## Ajuste de mínimos quadrados\n",
    "\n",
    "Imagine que temos os seguintes dados (*inline*), compostos por duas colunas separadas por vírgulas. A origem dos dados pode ser outra (via pandas/CSV p.e.), mas esse exemplo é interessante:"
   ]
  },
  {
   "cell_type": "code",
   "execution_count": 72,
   "metadata": {},
   "outputs": [],
   "source": [
    "dados_xy = \"\"\"\\\n",
    "3.1905781584582433,0.028208609537968457\n",
    "4.346895074946466,0.007160804747670053\n",
    "5.374732334047101,0.0046962988461934805\n",
    "8.201284796573875,0.0004614473299618756\n",
    "10.899357601713055,0.00005038370219939726\n",
    "16.295503211991434,4.377451812785309e-7\n",
    "21.82012847965739,3.0799922117601088e-9\n",
    "32.48394004282656,1.524776208284536e-13\n",
    "43.53319057815846,5.5012073588707224e-18\"\"\""
   ]
  },
  {
   "cell_type": "markdown",
   "metadata": {},
   "source": [
    "Precisamos separar esses dados brutos em pares x,y de fato. Para isso usamos a rotina `splitlines` para separar as linhas e `split` para criar uma lista de strings de cada linha."
   ]
  },
  {
   "cell_type": "code",
   "execution_count": 81,
   "metadata": {},
   "outputs": [],
   "source": [
    "data = []\n",
    "for line in dados_xy.splitlines():\n",
    "    words = line.split(',')\n",
    "    data.append(words)\n",
    "data = np.array(data,dtype=float)"
   ]
  },
  {
   "cell_type": "code",
   "execution_count": 82,
   "metadata": {},
   "outputs": [
    {
     "data": {
      "text/plain": [
       "array([[3.19057816e+00, 2.82086095e-02],\n",
       "       [4.34689507e+00, 7.16080475e-03],\n",
       "       [5.37473233e+00, 4.69629885e-03],\n",
       "       [8.20128480e+00, 4.61447330e-04],\n",
       "       [1.08993576e+01, 5.03837022e-05],\n",
       "       [1.62955032e+01, 4.37745181e-07],\n",
       "       [2.18201285e+01, 3.07999221e-09],\n",
       "       [3.24839400e+01, 1.52477621e-13],\n",
       "       [4.35331906e+01, 5.50120736e-18]])"
      ]
     },
     "execution_count": 82,
     "metadata": {},
     "output_type": "execute_result"
    }
   ],
   "source": [
    "data\n"
   ]
  },
  {
   "cell_type": "code",
   "execution_count": 83,
   "metadata": {},
   "outputs": [
    {
     "data": {
      "text/plain": [
       "(9, 2)"
      ]
     },
     "execution_count": 83,
     "metadata": {},
     "output_type": "execute_result"
    }
   ],
   "source": [
    "np.shape(data)"
   ]
  },
  {
   "cell_type": "code",
   "execution_count": 90,
   "metadata": {},
   "outputs": [
    {
     "data": {
      "text/plain": [
       "(3, 2)"
      ]
     },
     "execution_count": 90,
     "metadata": {},
     "output_type": "execute_result"
    }
   ],
   "source": [
    "t=np.array([[1,2],[3,4],[3,4]])\n",
    "t.shape"
   ]
  },
  {
   "cell_type": "code",
   "execution_count": 82,
   "metadata": {
    "scrolled": true
   },
   "outputs": [
    {
     "data": {
      "image/png": "[encoded data removed]",
      "text/plain": [
       "<Figure size 576x360 with 1 Axes>"
      ]
     },
     "metadata": {
      "needs_background": "light"
     },
     "output_type": "display_data"
    }
   ],
   "source": [
    "#dimensiona o tamanho da figura\n",
    "rcParams['figure.figsize'] = 8, 5\n",
    "plt.title(\"Dados\")\n",
    "plt.xlabel(\"x\")\n",
    "plt.ylabel(\"y\")\n",
    "plt.plot(data[:,0],data[:,1],'bo')\n",
    "plt.grid(b=True,color='lightgray', linestyle='--')"
   ]
  },
  {
   "cell_type": "markdown",
   "metadata": {},
   "source": [
    "Tem a forma de um decaimento exponencial. Podemos plotar com semi-log e verificar."
   ]
  },
  {
   "cell_type": "code",
   "execution_count": 83,
   "metadata": {},
   "outputs": [
    {
     "data": {
      "image/png": "[encoded data removed]",
      "text/plain": [
       "<Figure size 576x360 with 1 Axes>"
      ]
     },
     "metadata": {
      "needs_background": "light"
     },
     "output_type": "display_data"
    }
   ],
   "source": [
    "plt.title(\"Dados\")\n",
    "plt.xlabel(\"x\")\n",
    "plt.ylabel(\"y\")\n",
    "semilogy(data[:,0],data[:,1],'bo') ### ver se o dado é realmente exponencial (usa a função inversa log e o ajuste fica uma reta)\n",
    "plt.grid(b=True,color='lightgray', linestyle='--')"
   ]
  },
  {
   "cell_type": "markdown",
   "metadata": {},
   "source": [
    "Para uma função expoenencial pura como essa, podemos ajustar os dados para uma reta, linearizando os dados. Dada a função de decaimento exponencial:\n",
    "\n",
    "$$ y = Ae^{-ax} $$\n",
    "\n",
    "$$ \\log(y) = \\log(A) - ax$$\n",
    "\n",
    "Assim, plotando o logaritmo de y versus x obtemos uma reta com inclinação $-a$ e cuja interceptação em $y$ $(x=0)$ nos dá o valor de $A$.\n",
    "\n",
    "Uma função do numpy chamada `polyfit` faz o ajuste na forma polinomial.\n"
   ]
  },
  {
   "cell_type": "code",
   "execution_count": 84,
   "metadata": {},
   "outputs": [],
   "source": [
    "params = np.polyfit(data[:,0],np.log(data[:,1]),1) ### ajuste polinomial todos os dados da coluna x e todos os dados do y em log, e 1 é o grau do polinômio\n",
    "a = params[0]\n",
    "A = np.exp(params[1]) #não queremos log(A) mas sim A "
   ]
  },
  {
   "cell_type": "code",
   "execution_count": 85,
   "metadata": {},
   "outputs": [
    {
     "name": "stdout",
     "output_type": "stream",
     "text": [
      "A = 0.6155173006989675 \n",
      "a = -0.8934301000655257\n"
     ]
    }
   ],
   "source": [
    "print(\"A =\",A,\"\\na =\",a)"
   ]
  },
  {
   "cell_type": "markdown",
   "metadata": {},
   "source": [
    "Vejamos como o ajuste se compara aos dados:"
   ]
  },
  {
   "cell_type": "code",
   "execution_count": 86,
   "metadata": {},
   "outputs": [
    {
     "data": {
      "image/png": "[encoded data removed]",
      "text/plain": [
       "<Figure size 576x360 with 1 Axes>"
      ]
     },
     "metadata": {
      "needs_background": "light"
     },
     "output_type": "display_data"
    }
   ],
   "source": [
    "x = np.linspace(1,45)\n",
    "plt.title(\"Dados\")\n",
    "plt.xlabel(\"x\")\n",
    "plt.ylabel(\"y\")\n",
    "plt.semilogy(data[:,0],data[:,1],'bo')\n",
    "plt.semilogy(x,A*np.exp(a*x),'b-')\n",
    "plt.grid(b=True,color='lightgray', linestyle='--')"
   ]
  },
  {
   "cell_type": "markdown",
   "metadata": {},
   "source": [
    "Vamos comparar o método de linearização com o método de otimização do scipy [curve_fit](https://docs.scipy.org/doc/scipy/reference/generated/scipy.optimize.curve_fit.html). Para esse método, definimos a função que queremos ajustar, de forma mais geral,\n",
    "\n",
    "$$ y = Ae^{-a(x-x_0)} + c$$\n",
    "\n",
    "Uma função de usuário é definida da forma abaixo, com a expressão `def`:"
   ]
  },
  {
   "cell_type": "code",
   "execution_count": 87,
   "metadata": {},
   "outputs": [],
   "source": [
    "def func(x, A, a, x0, c):\n",
    "    return A * np.exp(-a * (x-x0)) + c"
   ]
  },
  {
   "cell_type": "code",
   "execution_count": 88,
   "metadata": {},
   "outputs": [
    {
     "data": {
      "image/png": "[encoded data removed]",
      "text/plain": [
       "<Figure size 576x360 with 1 Axes>"
      ]
     },
     "metadata": {
      "needs_background": "light"
     },
     "output_type": "display_data"
    }
   ],
   "source": [
    "import scipy as sp\n",
    "from scipy.optimize import curve_fit\n",
    "\n",
    "xdata = data[:,0]\n",
    "ydata = data[:,1]\n",
    "\n",
    "popt,pcov = curve_fit(func, xdata, ydata, method='trf')### trf é o método de otimização \n",
    "popt\n",
    "\n",
    "plt.semilogy(xdata,ydata,'bo-')\n",
    "plt.semilogy(xdata, func(xdata, *popt), 'ro--')\n",
    "plt.grid(b=True,color='lightgray', linestyle='--')\n",
    "plt.legend(['Método 1','Método 2']);"
   ]
  },
  {
   "cell_type": "code",
   "execution_count": 89,
   "metadata": {},
   "outputs": [
    {
     "name": "stdout",
     "output_type": "stream",
     "text": [
      "lse1/lse2 = 17.9\n"
     ]
    },
    {
     "data": {
      "image/png": "[encoded data removed]",
      "text/plain": [
       "<Figure size 720x360 with 1 Axes>"
      ]
     },
     "metadata": {
      "needs_background": "light"
     },
     "output_type": "display_data"
    }
   ],
   "source": [
    "err1 = A*np.exp(a*xdata) - ydata\n",
    "err2 = func(xdata, *popt) - ydata\n",
    "\n",
    "rcParams['figure.figsize'] = 10, 5\n",
    "\n",
    "N = len(xdata);\n",
    "\n",
    "err1s = np.sum((A*np.exp(a*xdata) - ydata)**2)/N\n",
    "err2s = np.sum((func(xdata, *popt) - ydata)**2)/N\n",
    "\n",
    "plt.title(\"Erros\")\n",
    "plt.xlabel(\"x\")\n",
    "plt.ylabel(\"y\")\n",
    "\n",
    "plt.plot(xdata,err1,'bo-',label='mse=%e'%err1s)\n",
    "plt.plot(xdata,err2,'ro--',label='mse=%e'%err2s)\n",
    "plt.grid(b=True,color='lightgray', linestyle='--')\n",
    "\n",
    "plt.ylabel('MSE')\n",
    "plt.legend(fontsize='large')\n",
    "\n",
    "print(\"lse1/lse2 = %2.1f\" % (err1s/err2s))\n"
   ]
  },
  {
   "cell_type": "markdown",
   "metadata": {},
   "source": [
    "O erro quadrático médio do método 1 é significativamente maior que o do método 2. Em regra geral, não é correto dizer que o método 2 é superior, pois podemos estar ajustando o ruído dos dados pois o modelo 2 é mais complexo que o 1. E o que mais podemos dizer sobre essa comparação de modelos?"
   ]
  },
  {
   "cell_type": "markdown",
   "metadata": {},
   "source": [
    "## Método de Monte Carlo e estimativas de $\\pi$ \n",
    "\n",
    "Há vários problemas que involvem integrais complicadas que são solucionados pelo método de Monte Carlo. Para isso, é preciso de bons geradores de números aleatórios. A função `random` gera numeros **pseudo** aleatórios $X \\sim \\mathcal{U}(0,1)$."
   ]
  },
  {
   "cell_type": "code",
   "execution_count": 90,
   "metadata": {},
   "outputs": [
    {
     "data": {
      "text/plain": [
       "[<matplotlib.lines.Line2D at 0x29163e0dfd0>]"
      ]
     },
     "execution_count": 90,
     "metadata": {},
     "output_type": "execute_result"
    },
    {
     "data": {
      "image/png": "[encoded data removed]",
      "text/plain": [
       "<Figure size 720x360 with 1 Axes>"
      ]
     },
     "metadata": {
      "needs_background": "light"
     },
     "output_type": "display_data"
    }
   ],
   "source": [
    "xUniform = np.random.rand(500);\n",
    "\n",
    "plt.plot(xUniform)"
   ]
  },
  {
   "cell_type": "code",
   "execution_count": 91,
   "metadata": {},
   "outputs": [
    {
     "data": {
      "image/png": "[encoded data removed]",
      "text/plain": [
       "<Figure size 720x360 with 1 Axes>"
      ]
     },
     "metadata": {
      "needs_background": "light"
     },
     "output_type": "display_data"
    }
   ],
   "source": [
    "xUniform = np.random.rand(5000);\n",
    "plt.hist(xUniform, bins=100);"
   ]
  },
  {
   "cell_type": "markdown",
   "metadata": {},
   "source": [
    "Uma estimativa de $\\pi$ pode ser calculada pela amostragem das áreas abaixo."
   ]
  },
  {
   "cell_type": "code",
   "execution_count": 92,
   "metadata": {},
   "outputs": [
    {
     "data": {
      "image/png": "[encoded data removed]",
      "text/plain": [
       "<Figure size 576x576 with 1 Axes>"
      ]
     },
     "metadata": {
      "needs_background": "light"
     },
     "output_type": "display_data"
    }
   ],
   "source": [
    "npts = 10000\n",
    "\n",
    "xs = 2*np.random.rand(npts)-1\n",
    "ys = 2*np.random.rand(npts)-1\n",
    "\n",
    "r = xs**2+ys**2\n",
    "\n",
    "nDentro = (r<1.).sum()\n",
    "\n",
    "rcParams['figure.figsize'] = 8, 8 # proporção quadrada\n",
    "\n",
    "plt.title(\"Estimativa de $\\pi$ = %f\" % (4*nDentro/float(npts)))\n",
    "plt.plot(xs[r<1],ys[r<1],'b.')\n",
    "plt.plot(xs[r>1],ys[r>1],'r.');\n"
   ]
  },
  {
   "cell_type": "markdown",
   "metadata": {},
   "source": [
    "Um outro método é a expansão de Leibniz: \n",
    "\n",
    "$$\\frac{\\pi}{4} = \\sum_k \\frac{(-1)^k}{2*k+1}$$"
   ]
  },
  {
   "cell_type": "markdown",
   "metadata": {},
   "source": [
    "## Exercício 1\n",
    "\n",
    ">(a) Explique a solução via Método de Monte Carlo para a estimativa de $\\pi$.\n",
    "\n",
    ">(b) Escreva um programa em Python que plote a convergência para a estimativa de $\\pi$ para o Método de Monte Carlo e expansão de Leibniz. Escolha (ao menos) mais um método da página [Approximations of π ](https://en.wikipedia.org/wiki/Approximations_of_π) e implemente-o. Mostre qual método tem a convergência mais rápida."
   ]
  },
  {
   "cell_type": "markdown",
   "metadata": {},
   "source": [
    "##### convergência: qtd de interações para chegar no resultado. E depois entrar em mais uma página e escolher outro método"
   ]
  },
  {
   "cell_type": "markdown",
   "metadata": {},
   "source": [
    "## Integração numérica\n",
    "\n",
    "É comum precisarmos do cálculo de alguma integral e muitas vezes uma boa aproximação numérica é o bastante. Suponha que queiramos estimar a seguinte integral:\n",
    "\n",
    "$$\\int_{-\\infty}^{\\infty}e^{-x^2}dx$$"
   ]
  },
  {
   "cell_type": "code",
   "execution_count": 8,
   "metadata": {},
   "outputs": [
    {
     "data": {
      "image/png": "[encoded data removed]",
      "text/plain": [
       "<Figure size 576x576 with 1 Axes>"
      ]
     },
     "metadata": {
      "needs_background": "light"
     },
     "output_type": "display_data"
    }
   ],
   "source": [
    "from numpy import sqrt\n",
    "def f(x): return np.exp(-x**2)  ## definição da função\n",
    "\n",
    "rcParams['figure.figsize'] = 8, 8 \n",
    "x = np.linspace(-3,3,100)\n",
    "plt.grid(b=True,color='lightgray', linestyle='--')\n",
    "plt.plot(x,f(x));"
   ]
  },
  {
   "cell_type": "markdown",
   "metadata": {},
   "source": [
    "Scipy possui uma rotina de integração numérica chamada ``quad`` (de quadratura) que soluciona esse problema:"
   ]
  },
  {
   "cell_type": "code",
   "execution_count": 9,
   "metadata": {},
   "outputs": [
    {
     "data": {
      "text/plain": [
       "(1.7724538509055159, 1.4202636781830878e-08)"
      ]
     },
     "execution_count": 9,
     "metadata": {},
     "output_type": "execute_result"
    }
   ],
   "source": [
    "from scipy.integrate import quad \n",
    "quad(f,-np.inf,np.inf) ### passa função e os limites dessa função "
   ]
  },
  {
   "cell_type": "code",
   "execution_count": 10,
   "metadata": {},
   "outputs": [],
   "source": [
    "d=f(x)"
   ]
  },
  {
   "cell_type": "code",
   "execution_count": 11,
   "metadata": {},
   "outputs": [
    {
     "data": {
      "text/plain": [
       "numpy.ndarray"
      ]
     },
     "execution_count": 11,
     "metadata": {},
     "output_type": "execute_result"
    }
   ],
   "source": [
    "type(d)"
   ]
  },
  {
   "cell_type": "markdown",
   "metadata": {},
   "source": [
    "## Exercício 2\n",
    "\n",
    ">(a) O que significa o segundo número obtido pela função `quad` acima? \n",
    "\n",
    ">(b) Modifique a função $f(x)$ acima de modo que a sua integral seja normalizada."
   ]
  },
  {
   "cell_type": "markdown",
   "metadata": {},
   "source": [
    "###### precisa ser igual a 1, função densidade e probabilidade (normalizada)"
   ]
  },
  {
   "cell_type": "markdown",
   "metadata": {},
   "source": [
    "# III. Python intermediário"
   ]
  },
  {
   "cell_type": "markdown",
   "metadata": {},
   "source": [
    "## Melhorando a formatação de strings"
   ]
  },
  {
   "cell_type": "markdown",
   "metadata": {},
   "source": [
    "Em termos de formatação de strings, até agora não fomos além disso em nossos exemplos:"
   ]
  },
  {
   "cell_type": "code",
   "execution_count": 31,
   "metadata": {},
   "outputs": [
    {
     "name": "stdout",
     "output_type": "stream",
     "text": [
      "As variáveis são  1 2 3 1.7687676799\n"
     ]
    }
   ],
   "source": [
    "a,b,c = 1,2,3\n",
    "d = 1.7687676799\n",
    "print(\"As variáveis são \",a,b,c,d)"
   ]
  },
  {
   "cell_type": "markdown",
   "metadata": {},
   "source": [
    "Simples, porém pobre de opções. Se quisermos definir quantas casas serão apresentadas, precisamos de algo melhor. E Python utiliza basicamante o padrão `printf` do C. Por exemplo:"
   ]
  },
  {
   "cell_type": "code",
   "execution_count": 34,
   "metadata": {},
   "outputs": [
    {
     "name": "stdout",
     "output_type": "stream",
     "text": [
      "Pi como inteiro = 3\n",
      "Pi como float = 3.141593\n",
      "Pi com 4 casas decimais = 3.1416\n",
      "Pi com comprimento total de 10 posições, com 6 casas decimais = [  3.141593]\n",
      "Pi com comprimento total de 10 posições, com 6 casas decimais = [003.141593]\n",
      "Pi no formato exponencial = 3.141593e+00\n"
     ]
    }
   ],
   "source": [
    "\n",
    "print (\"Pi como inteiro = %d\" % math.pi)\n",
    "print (\"Pi como float = %f\" % np.pi)\n",
    "print (\"Pi com 4 casas decimais = %.4f\" % np.pi)\n",
    "print (\"Pi com comprimento total de 10 posições, com 6 casas decimais = [% 10.6f]\" % np.pi)\n",
    "print (\"Pi com comprimento total de 10 posições, com 6 casas decimais = [%010.6f]\" % np.pi)\n",
    "print (\"Pi no formato exponencial = %e\" % np.pi)"
   ]
  },
  {
   "cell_type": "markdown",
   "metadata": {},
   "source": [
    "Maiores informações aqui [printf-style String Formatting](https://docs.python.org/3/library/stdtypes.html#printf-style-string-formatting)"
   ]
  },
  {
   "cell_type": "code",
   "execution_count": 35,
   "metadata": {},
   "outputs": [
    {
     "name": "stdout",
     "output_type": "stream",
     "text": [
      "As variáveis especificadas anteriormente são 1, 2, 3 e 1.768768.\n"
     ]
    }
   ],
   "source": [
    "print(\"As variáveis especificadas anteriormente são %d, %d, %d e %f.\" % (a,b,c,d))"
   ]
  },
  {
   "cell_type": "markdown",
   "metadata": {},
   "source": [
    "A versão 3 do Python cosidera esse método como \"antigo\" [7.1.4. Old string formatting](https://docs.python.org/3/tutorial/inputoutput.html#old-string-formatting). Se você quiser utilizar o formato mais atual, veja em [Input and Output](https://docs.python.org/3/tutorial/inputoutput.html#input-and-output). Abaixo um exemplo do método atual."
   ]
  },
  {
   "cell_type": "code",
   "execution_count": 36,
   "metadata": {},
   "outputs": [
    {
     "name": "stdout",
     "output_type": "stream",
     "text": [
      "O valor de pi com 4 casas decimais é 3.1416.\n"
     ]
    }
   ],
   "source": [
    "print(f'O valor de pi com 4 casas decimais é {math.pi:.4f}.')"
   ]
  },
  {
   "cell_type": "markdown",
   "metadata": {},
   "source": [
    "## *List Comprehensions* \n",
    "\n",
    "*List comprehensions* é uma forma bem melhorada para se construir listas. A explicação fica mais fácil com um exemplo:"
   ]
  },
  {
   "cell_type": "code",
   "execution_count": 37,
   "metadata": {},
   "outputs": [
    {
     "data": {
      "text/plain": [
       "[1, 3, 5, 7, 9, 11, 13, 15, 17, 19]"
      ]
     },
     "execution_count": 37,
     "metadata": {},
     "output_type": "execute_result"
    }
   ],
   "source": [
    "pares = [2*i+1 for i in range(10)]\n",
    "pares"
   ]
  },
  {
   "cell_type": "markdown",
   "metadata": {},
   "source": [
    "Você pode criar listas bem complicadas com essa construção: "
   ]
  },
  {
   "cell_type": "code",
   "execution_count": 38,
   "metadata": {},
   "outputs": [
    {
     "data": {
      "text/plain": [
       "[(2, 4, 9), (3, 3, 9), (3, 4, 8), (4, 2, 9), (4, 3, 8), (4, 4, 7)]"
      ]
     },
     "execution_count": 38,
     "metadata": {},
     "output_type": "execute_result"
    }
   ],
   "source": [
    "#o nome disso é \"nested list comprehension\"\n",
    "constraint = [(x,y,z) for x in range(5) for y in range(5) for z in range(10) if (x+y+z == 15)]\n",
    "constraint"
   ]
  },
  {
   "cell_type": "markdown",
   "metadata": {},
   "source": [
    "## Exercício 3\n",
    "\n",
    "> Escreva uma *list comprehension* que retorne uma lista de números primos $<= N$. (Obs. **não** use bibliotecas de números primos). "
   ]
  },
  {
   "cell_type": "markdown",
   "metadata": {},
   "source": [
    "## *Factory Functions*\n",
    "\n",
    "Uma *factory function* é uma função que retorna uma função.\n",
    "\n",
    "Suponha que queremos uma gaussiana centrada em .5, com amplitude 100. Voce pode tomar a função geral:"
   ]
  },
  {
   "cell_type": "code",
   "execution_count": 39,
   "metadata": {},
   "outputs": [],
   "source": [
    "def gauss(x,A,a,x0):\n",
    "    return A*np.exp(-a*(x-x0)**2)"
   ]
  },
  {
   "cell_type": "markdown",
   "metadata": {},
   "source": [
    "E criar sobre ela uma função *maker* cujos argumentos fixos são declarados:"
   ]
  },
  {
   "cell_type": "code",
   "execution_count": 43,
   "metadata": {},
   "outputs": [],
   "source": [
    "def gauss_maker(A,a,x0):\n",
    "    def f(x):\n",
    "        return gauss(x,A,a,x0)\n",
    "    return f"
   ]
  },
  {
   "cell_type": "code",
   "execution_count": 44,
   "metadata": {},
   "outputs": [
    {
     "data": {
      "image/png": "[encoded data removed]",
      "text/plain": [
       "<Figure size 432x288 with 1 Axes>"
      ]
     },
     "metadata": {
      "needs_background": "light"
     },
     "output_type": "display_data"
    }
   ],
   "source": [
    "x = np.linspace(0,1)\n",
    "\n",
    "#criação da função \"g\" que é uma função gaussiana com alguns argumentos fixos.\n",
    "g = gauss_maker(100.,1.0,0.5)\n",
    "\n",
    "plt.plot(x,g(x))\n",
    "\n",
    "plt.grid(b=True,color='lightgray', linestyle='--')"
   ]
  },
  {
   "cell_type": "markdown",
   "metadata": {},
   "source": [
    "## Formato JSON\n",
    "\n",
    "JSON [JavaScript Object Notation](http://json.org/) é um formato muito popular de armazenamento e transferência estruturada de dados, que é utilizado por muitos sistemas (*notebooks* Jupyter inclusive!) e navegadores da Internet. É muito fácil de usar e de fazer o *deploy* de um sistema baseado em JSON. Todas as linguagens de programação possuem uma biblioteca JSON, de Ada a Cobol, de Lua a Ruby. Isso permite interoperação de dados de maneira muito simples. \n",
    "E é um formato texto que pode ser visualizado e editado facilmente. \n",
    "\n",
    "[Há uma biblioteca padrão](http://docs.python.org/2/library/json.html) para codificação e decodificação de formato JSON para Python.\n",
    "\n",
    "Um exemplo:"
   ]
  },
  {
   "cell_type": "code",
   "execution_count": 45,
   "metadata": {},
   "outputs": [],
   "source": [
    "json_data = \"\"\"\\\n",
    "{\n",
    "    \n",
    "    \"1950\" : {\n",
    "               \"país\"       : \"Brasil\",\n",
    "               \"adversário\" : \"Uruguai\",\n",
    "               \"colocação\"  : \"2\"\n",
    "             },\n",
    "    \n",
    "    \"1958\" : {\n",
    "               \"país\"       : \"Suécia\",\n",
    "               \"adversário\" : \"Suécia\",\n",
    "               \"colocação\"  : \"1\"\n",
    "             },\n",
    "\n",
    "    \"1970\" : {\n",
    "               \"país\"       : \"México\",\n",
    "               \"adversário\" : \"Itália\",\n",
    "               \"colocação\"  : \"1\"\n",
    "             },\n",
    "             \n",
    "    \"2014\" : {\n",
    "               \"país\"       : \"Brasil\",\n",
    "               \"adversário\" : \"Alemanha\",\n",
    "               \"colocação\"  : \"4\"\n",
    "              }\n",
    "               \n",
    "}\n",
    "\"\"\"\n",
    "import json\n",
    "d = json.loads(json_data)"
   ]
  },
  {
   "cell_type": "markdown",
   "metadata": {},
   "source": [
    "A estrutura JSON forma dicionários e listas. Como dicionários, você pode acessar com chave string, e listas com índices inteiros."
   ]
  },
  {
   "cell_type": "code",
   "execution_count": 46,
   "metadata": {},
   "outputs": [
    {
     "data": {
      "text/plain": [
       "{'país': 'México', 'adversário': 'Itália', 'colocação': '1'}"
      ]
     },
     "execution_count": 46,
     "metadata": {},
     "output_type": "execute_result"
    }
   ],
   "source": [
    "d[\"1970\"]"
   ]
  },
  {
   "cell_type": "code",
   "execution_count": 47,
   "metadata": {},
   "outputs": [
    {
     "data": {
      "text/plain": [
       "'México'"
      ]
     },
     "execution_count": 47,
     "metadata": {},
     "output_type": "execute_result"
    }
   ],
   "source": [
    "d[\"1970\"]['país'] ### que está em formato de dicionário"
   ]
  },
  {
   "cell_type": "markdown",
   "metadata": {},
   "source": [
    "## **map** \n",
    "\n",
    "é uma forma de aplicar uma função repetidamente a todos os itens de um lista:"
   ]
  },
  {
   "cell_type": "code",
   "execution_count": 48,
   "metadata": {},
   "outputs": [
    {
     "data": {
      "text/plain": [
       "<map at 0x2246df867f0>"
      ]
     },
     "execution_count": 48,
     "metadata": {},
     "output_type": "execute_result"
    }
   ],
   "source": [
    "map(float,'1 2 3 4 5'.split())"
   ]
  },
  {
   "cell_type": "markdown",
   "metadata": {},
   "source": [
    "(???) a partir de Python3 `map` não retorna uma lista, mas um *iterável*. Para obter uma lista, basta construir uma a partir do retorno de `map`. "
   ]
  },
  {
   "cell_type": "code",
   "execution_count": 49,
   "metadata": {},
   "outputs": [
    {
     "data": {
      "text/plain": [
       "[1.0, 2.0, 3.0, 4.0, 5.0]"
      ]
     },
     "execution_count": 49,
     "metadata": {},
     "output_type": "execute_result"
    }
   ],
   "source": [
    "list(map(float,'1 2 3 4 5'.split()))"
   ]
  },
  {
   "cell_type": "markdown",
   "metadata": {},
   "source": [
    "# IV. Cronometrando Python: Timeit, Profiling, Cython, SWIG e PyPy\n",
    "\n",
    "[Donald Knuth](https://www-cs-faculty.stanford.edu/~knuth/) afirma:\n",
    "\n",
    "> *We should forget about small efficiencies, say about 97% of the time: premature optimization is the root of all evil.*\n",
    "\n",
    "Se você acredita que sua implementação sofre de lentidão, a segunda dica é \"procure um algoritmo melhor já testado\". Se ainda isso não for suficiente e você precisa medir onde está o gargalo de seu código, Python oferece ferramentas para medir o tempo que as rotinas estão consumindo.\n",
    "\n",
    "## Timeit\n",
    "`timeit` ajuda a determinar o tempo que uma rotina leva para ser executada. Primeiro, vamos construir uma rotina em Python puro que calcule o fatorial:"
   ]
  },
  {
   "cell_type": "code",
   "execution_count": 12,
   "metadata": {},
   "outputs": [],
   "source": [
    "def fatorial(n):\n",
    "    if n <= 0:\n",
    "        return 1\n",
    "    return n*fatorial(n-1)"
   ]
  },
  {
   "cell_type": "code",
   "execution_count": 13,
   "metadata": {},
   "outputs": [
    {
     "name": "stdout",
     "output_type": "stream",
     "text": [
      "2.61 µs ± 23.7 ns per loop (mean ± std. dev. of 7 runs, 100000 loops each)\n"
     ]
    }
   ],
   "source": [
    "%timeit fatorial(20)"
   ]
  },
  {
   "cell_type": "code",
   "execution_count": 14,
   "metadata": {},
   "outputs": [
    {
     "data": {
      "text/plain": [
       "2432902008176640000"
      ]
     },
     "execution_count": 14,
     "metadata": {},
     "output_type": "execute_result"
    }
   ],
   "source": [
    "fatorial(20)"
   ]
  },
  {
   "cell_type": "markdown",
   "metadata": {},
   "source": [
    "O sinal `%` na frente do comando `timeit`é o que o IPython chama de [magic function](https://ipython.org/ipython-doc/dev/interactive/tutorial.html#magic-functions), mas agora não vem ao caso do que se trata.\n",
    "\n",
    "No meu teste ela demorou ~80ns por loop. Comparando com a implementação da biblioteca `math`:"
   ]
  },
  {
   "cell_type": "code",
   "execution_count": 15,
   "metadata": {},
   "outputs": [
    {
     "ename": "NameError",
     "evalue": "name 'math' is not defined",
     "output_type": "error",
     "traceback": [
      "\u001b[1;31m---------------------------------------------------------------------------\u001b[0m",
      "\u001b[1;31mNameError\u001b[0m                                 Traceback (most recent call last)",
      "\u001b[1;32m<ipython-input-15-5a6d50d6a8c0>\u001b[0m in \u001b[0;36m<module>\u001b[1;34m\u001b[0m\n\u001b[1;32m----> 1\u001b[1;33m \u001b[0mget_ipython\u001b[0m\u001b[1;33m(\u001b[0m\u001b[1;33m)\u001b[0m\u001b[1;33m.\u001b[0m\u001b[0mrun_line_magic\u001b[0m\u001b[1;33m(\u001b[0m\u001b[1;34m'timeit'\u001b[0m\u001b[1;33m,\u001b[0m \u001b[1;34m'math.factorial(20)'\u001b[0m\u001b[1;33m)\u001b[0m\u001b[1;33m\u001b[0m\u001b[1;33m\u001b[0m\u001b[0m\n\u001b[0m",
      "\u001b[1;32m~\\Anaconda3\\lib\\site-packages\\IPython\\core\\interactiveshell.py\u001b[0m in \u001b[0;36mrun_line_magic\u001b[1;34m(self, magic_name, line, _stack_depth)\u001b[0m\n\u001b[0;32m   2305\u001b[0m                 \u001b[0mkwargs\u001b[0m\u001b[1;33m[\u001b[0m\u001b[1;34m'local_ns'\u001b[0m\u001b[1;33m]\u001b[0m \u001b[1;33m=\u001b[0m \u001b[0msys\u001b[0m\u001b[1;33m.\u001b[0m\u001b[0m_getframe\u001b[0m\u001b[1;33m(\u001b[0m\u001b[0mstack_depth\u001b[0m\u001b[1;33m)\u001b[0m\u001b[1;33m.\u001b[0m\u001b[0mf_locals\u001b[0m\u001b[1;33m\u001b[0m\u001b[1;33m\u001b[0m\u001b[0m\n\u001b[0;32m   2306\u001b[0m             \u001b[1;32mwith\u001b[0m \u001b[0mself\u001b[0m\u001b[1;33m.\u001b[0m\u001b[0mbuiltin_trap\u001b[0m\u001b[1;33m:\u001b[0m\u001b[1;33m\u001b[0m\u001b[1;33m\u001b[0m\u001b[0m\n\u001b[1;32m-> 2307\u001b[1;33m                 \u001b[0mresult\u001b[0m \u001b[1;33m=\u001b[0m \u001b[0mfn\u001b[0m\u001b[1;33m(\u001b[0m\u001b[1;33m*\u001b[0m\u001b[0margs\u001b[0m\u001b[1;33m,\u001b[0m \u001b[1;33m**\u001b[0m\u001b[0mkwargs\u001b[0m\u001b[1;33m)\u001b[0m\u001b[1;33m\u001b[0m\u001b[1;33m\u001b[0m\u001b[0m\n\u001b[0m\u001b[0;32m   2308\u001b[0m             \u001b[1;32mreturn\u001b[0m \u001b[0mresult\u001b[0m\u001b[1;33m\u001b[0m\u001b[1;33m\u001b[0m\u001b[0m\n\u001b[0;32m   2309\u001b[0m \u001b[1;33m\u001b[0m\u001b[0m\n",
      "\u001b[1;32m<C:\\Users\\rapha\\Anaconda3\\lib\\site-packages\\decorator.py:decorator-gen-61>\u001b[0m in \u001b[0;36mtimeit\u001b[1;34m(self, line, cell, local_ns)\u001b[0m\n",
      "\u001b[1;32m~\\Anaconda3\\lib\\site-packages\\IPython\\core\\magic.py\u001b[0m in \u001b[0;36m<lambda>\u001b[1;34m(f, *a, **k)\u001b[0m\n\u001b[0;32m    185\u001b[0m     \u001b[1;31m# but it's overkill for just that one bit of state.\u001b[0m\u001b[1;33m\u001b[0m\u001b[1;33m\u001b[0m\u001b[1;33m\u001b[0m\u001b[0m\n\u001b[0;32m    186\u001b[0m     \u001b[1;32mdef\u001b[0m \u001b[0mmagic_deco\u001b[0m\u001b[1;33m(\u001b[0m\u001b[0marg\u001b[0m\u001b[1;33m)\u001b[0m\u001b[1;33m:\u001b[0m\u001b[1;33m\u001b[0m\u001b[1;33m\u001b[0m\u001b[0m\n\u001b[1;32m--> 187\u001b[1;33m         \u001b[0mcall\u001b[0m \u001b[1;33m=\u001b[0m \u001b[1;32mlambda\u001b[0m \u001b[0mf\u001b[0m\u001b[1;33m,\u001b[0m \u001b[1;33m*\u001b[0m\u001b[0ma\u001b[0m\u001b[1;33m,\u001b[0m \u001b[1;33m**\u001b[0m\u001b[0mk\u001b[0m\u001b[1;33m:\u001b[0m \u001b[0mf\u001b[0m\u001b[1;33m(\u001b[0m\u001b[1;33m*\u001b[0m\u001b[0ma\u001b[0m\u001b[1;33m,\u001b[0m \u001b[1;33m**\u001b[0m\u001b[0mk\u001b[0m\u001b[1;33m)\u001b[0m\u001b[1;33m\u001b[0m\u001b[1;33m\u001b[0m\u001b[0m\n\u001b[0m\u001b[0;32m    188\u001b[0m \u001b[1;33m\u001b[0m\u001b[0m\n\u001b[0;32m    189\u001b[0m         \u001b[1;32mif\u001b[0m \u001b[0mcallable\u001b[0m\u001b[1;33m(\u001b[0m\u001b[0marg\u001b[0m\u001b[1;33m)\u001b[0m\u001b[1;33m:\u001b[0m\u001b[1;33m\u001b[0m\u001b[1;33m\u001b[0m\u001b[0m\n",
      "\u001b[1;32m~\\Anaconda3\\lib\\site-packages\\IPython\\core\\magics\\execution.py\u001b[0m in \u001b[0;36mtimeit\u001b[1;34m(self, line, cell, local_ns)\u001b[0m\n\u001b[0;32m   1145\u001b[0m             \u001b[1;32mfor\u001b[0m \u001b[0mindex\u001b[0m \u001b[1;32min\u001b[0m \u001b[0mrange\u001b[0m\u001b[1;33m(\u001b[0m\u001b[1;36m0\u001b[0m\u001b[1;33m,\u001b[0m \u001b[1;36m10\u001b[0m\u001b[1;33m)\u001b[0m\u001b[1;33m:\u001b[0m\u001b[1;33m\u001b[0m\u001b[1;33m\u001b[0m\u001b[0m\n\u001b[0;32m   1146\u001b[0m                 \u001b[0mnumber\u001b[0m \u001b[1;33m=\u001b[0m \u001b[1;36m10\u001b[0m \u001b[1;33m**\u001b[0m \u001b[0mindex\u001b[0m\u001b[1;33m\u001b[0m\u001b[1;33m\u001b[0m\u001b[0m\n\u001b[1;32m-> 1147\u001b[1;33m                 \u001b[0mtime_number\u001b[0m \u001b[1;33m=\u001b[0m \u001b[0mtimer\u001b[0m\u001b[1;33m.\u001b[0m\u001b[0mtimeit\u001b[0m\u001b[1;33m(\u001b[0m\u001b[0mnumber\u001b[0m\u001b[1;33m)\u001b[0m\u001b[1;33m\u001b[0m\u001b[1;33m\u001b[0m\u001b[0m\n\u001b[0m\u001b[0;32m   1148\u001b[0m                 \u001b[1;32mif\u001b[0m \u001b[0mtime_number\u001b[0m \u001b[1;33m>=\u001b[0m \u001b[1;36m0.2\u001b[0m\u001b[1;33m:\u001b[0m\u001b[1;33m\u001b[0m\u001b[1;33m\u001b[0m\u001b[0m\n\u001b[0;32m   1149\u001b[0m                     \u001b[1;32mbreak\u001b[0m\u001b[1;33m\u001b[0m\u001b[1;33m\u001b[0m\u001b[0m\n",
      "\u001b[1;32m~\\Anaconda3\\lib\\site-packages\\IPython\\core\\magics\\execution.py\u001b[0m in \u001b[0;36mtimeit\u001b[1;34m(self, number)\u001b[0m\n\u001b[0;32m    159\u001b[0m         \u001b[0mgc\u001b[0m\u001b[1;33m.\u001b[0m\u001b[0mdisable\u001b[0m\u001b[1;33m(\u001b[0m\u001b[1;33m)\u001b[0m\u001b[1;33m\u001b[0m\u001b[1;33m\u001b[0m\u001b[0m\n\u001b[0;32m    160\u001b[0m         \u001b[1;32mtry\u001b[0m\u001b[1;33m:\u001b[0m\u001b[1;33m\u001b[0m\u001b[1;33m\u001b[0m\u001b[0m\n\u001b[1;32m--> 161\u001b[1;33m             \u001b[0mtiming\u001b[0m \u001b[1;33m=\u001b[0m \u001b[0mself\u001b[0m\u001b[1;33m.\u001b[0m\u001b[0minner\u001b[0m\u001b[1;33m(\u001b[0m\u001b[0mit\u001b[0m\u001b[1;33m,\u001b[0m \u001b[0mself\u001b[0m\u001b[1;33m.\u001b[0m\u001b[0mtimer\u001b[0m\u001b[1;33m)\u001b[0m\u001b[1;33m\u001b[0m\u001b[1;33m\u001b[0m\u001b[0m\n\u001b[0m\u001b[0;32m    162\u001b[0m         \u001b[1;32mfinally\u001b[0m\u001b[1;33m:\u001b[0m\u001b[1;33m\u001b[0m\u001b[1;33m\u001b[0m\u001b[0m\n\u001b[0;32m    163\u001b[0m             \u001b[1;32mif\u001b[0m \u001b[0mgcold\u001b[0m\u001b[1;33m:\u001b[0m\u001b[1;33m\u001b[0m\u001b[1;33m\u001b[0m\u001b[0m\n",
      "\u001b[1;32m<magic-timeit>\u001b[0m in \u001b[0;36minner\u001b[1;34m(_it, _timer)\u001b[0m\n",
      "\u001b[1;31mNameError\u001b[0m: name 'math' is not defined"
     ]
    }
   ],
   "source": [
    "%timeit math.factorial(20)"
   ]
  },
  {
   "cell_type": "markdown",
   "metadata": {},
   "source": [
    "No meu teste demorou ~343ps por loop, 200x mais rápido. Obviamente é um caso para usar biblioteca pronta otimizada do Python."
   ]
  },
  {
   "cell_type": "markdown",
   "metadata": {},
   "source": [
    "## *Profiling*"
   ]
  },
  {
   "cell_type": "markdown",
   "metadata": {},
   "source": [
    "*Profiling* complementa `timeit` separando o tempo total no tempo gasto por cada função.\n",
    "\n",
    "Suponha que queiramos criar uma lista de números pares:"
   ]
  },
  {
   "cell_type": "code",
   "execution_count": null,
   "metadata": {},
   "outputs": [],
   "source": [
    "def pares(n):\n",
    "    \"Retorna uma lista de números pares < n\"\n",
    "    l = []\n",
    "    for x in range(n):\n",
    "        if x % 2 == 0:\n",
    "            l.append(x)\n",
    "    return l"
   ]
  },
  {
   "cell_type": "code",
   "execution_count": null,
   "metadata": {},
   "outputs": [],
   "source": [
    "import cProfile\n",
    "cProfile.run('pares(100000)')"
   ]
  },
  {
   "cell_type": "markdown",
   "metadata": {},
   "source": [
    "22ms é rápido, não? Pode ser que não, caso você precisa executar essa rotina muitas vezes. O que o cProfile mostra é que `append` foi culpado por quase 20% do tempo total. Vamos usar uma *list comprehension* e ver se melhorarmos a performance."
   ]
  },
  {
   "cell_type": "code",
   "execution_count": null,
   "metadata": {},
   "outputs": [],
   "source": [
    "def pares2(n):\n",
    "    \"Retorna uma lista de números pares < n\"\n",
    "    return [x for x in range(n) if x % 2 == 0]"
   ]
  },
  {
   "cell_type": "code",
   "execution_count": null,
   "metadata": {},
   "outputs": [],
   "source": [
    "import cProfile\n",
    "cProfile.run('pares2(100000)')"
   ]
  },
  {
   "cell_type": "markdown",
   "metadata": {},
   "source": [
    "Mais que dobramos a velocidade de execução retirando uma função custosa."
   ]
  },
  {
   "cell_type": "markdown",
   "metadata": {},
   "source": [
    "## Outras formas de aumentar a performance do Python\n",
    "\n",
    "**OBS**:Nenhuma dessas receitas eu testei, apenas copiei-as *as is*, mas são boas dicas para necessidades especiais de performance.\n",
    "\n",
    "[Swig](http://swig.org/) (the simplified wrapper and interface generator) is a method to generate binding not only for Python but also for Matlab, Perl, Ruby, and other scripting languages. Swig can scan the header files of a C project and generate Python binding for it. Using Swig is substantially easier than writing the routines in C.\n",
    "\n",
    "[Cython](http://www.cython.org/) is a C-extension language. You can start by compiling a Python routine into a shared object libraries that can be imported into faster versions of the routines. You can then add additional static typing and make other restrictions to further speed the code. Cython is generally easier than using Swig.\n",
    "\n",
    "[PyPy](http://pypy.org/) is the easiest way of obtaining fast code. PyPy compiles Python to a subset of the Python language called RPython that can be efficiently compiled and optimized. Over a wide range of tests, PyPy is [roughly 6 times faster than the standard Python Distribution](http://speed.pypy.org/)."
   ]
  },
  {
   "cell_type": "markdown",
   "metadata": {},
   "source": [
    "# VII. Referências\n",
    "\n",
    "## Recursos de aprendizado \n",
    "\n",
    "> [Documentação oficial do Python 3](http://docs.python.org/3/).\n",
    "\n",
    "> [Tutorial do IPython](https://ipython.org/ipython-doc/dev/interactive/tutorial.html).\n",
    "\n",
    "> [Livro *Dive Into Python*](http://histo.ucsf.edu/BMS270/diveintopython3-r802.pdf).\n",
    "\n",
    "\n",
    "## Bilbiotecas essenciais\n",
    "\n",
    "[SciPy](https://www.scipy.org) (pronuncia-se “sai pai”) é um ecossistema baseado em Python de software open-source para matemática, ciência e engenharia. Em particular, esses são algus dos pacotes principais: \n",
    "\n",
    ">[NumPy](https://numpy.org): *\"Base N-dimensional array package\"*.\n",
    "\n",
    ">[Scipy Library](https://www.scipy.org/scipylib/index.html): *\"Fundamental library for scientific computing\"*.\n",
    "\n",
    ">[Matplotlib](https://matplotlib.org): *\"Comprehensive 2D Plotting\"* (mas tem toolkits 3D também).\n",
    "\n",
    ">[IPython](https://ipython.org) *\"Enhanced Interactive Console\"*.\n",
    "\n",
    ">[Sympy](https://www.sympy.org/en/index.html) \"Symbolic mathematics\".\n",
    "\n",
    ">[Pandas](https://pandas.pydata.org) \"Data structures & analysis\". \n",
    "\n"
   ]
  },
  {
   "cell_type": "code",
   "execution_count": null,
   "metadata": {},
   "outputs": [],
   "source": []
  }
 ],
 "metadata": {
  "kernelspec": {
   "display_name": "Python 3",
   "language": "python",
   "name": "python3"
  },
  "language_info": {
   "codemirror_mode": {
    "name": "ipython",
    "version": 3
   },
   "file_extension": ".py",
   "mimetype": "text/x-python",
   "name": "python",
   "nbconvert_exporter": "python",
   "pygments_lexer": "ipython3",
   "version": "3.7.3"
  }
 },
 "nbformat": 4,
 "nbformat_minor": 1
}
